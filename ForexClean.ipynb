{
  "nbformat": 4,
  "nbformat_minor": 0,
  "metadata": {
    "colab": {
      "name": "ForexClean.ipynb",
      "provenance": [],
      "collapsed_sections": [],
      "toc_visible": true,
      "include_colab_link": true
    },
    "kernelspec": {
      "name": "python3",
      "display_name": "Python 3"
    },
    "language_info": {
      "name": "python"
    }
  },
  "cells": [
    {
      "cell_type": "markdown",
      "metadata": {
        "id": "view-in-github",
        "colab_type": "text"
      },
      "source": [
        "<a href=\"https://colab.research.google.com/github/Aryamaan777/RLForexTrader/blob/main/ForexClean.ipynb\" target=\"_parent\"><img src=\"https://colab.research.google.com/assets/colab-badge.svg\" alt=\"Open In Colab\"/></a>"
      ]
    },
    {
      "cell_type": "code",
      "metadata": {
        "id": "Ezk_wPHNf8aZ"
      },
      "source": [
        "# STEPS TO RUN\n",
        "\n",
        "# After !pip install keras-rl2 (from https://github.com/wau/keras-rl2)\n",
        "# Click the .. Directory above data\n",
        "# Replace core.py in usr/local/lib/python3.7/distpackages/rl with your saved core.py file.\n",
        "# Replace usr/local/lib/python3.7/distpackages/rl/agents/dqn.py with the downloaded dqn.py code.\n",
        "# Copy process_data.py, util.py from the saved RLForexTrader Directory into the content Directory.\n",
        "# Copy your saved TraderEnv.py file into the content Directory."
      ],
      "execution_count": null,
      "outputs": []
    },
    {
      "cell_type": "code",
      "metadata": {
        "colab": {
          "base_uri": "https://localhost:8080/"
        },
        "id": "amdxwc1k6QuT",
        "outputId": "5c18b04c-a7c5-493d-83d3-8cc76424a2d2"
      },
      "source": [
        "# Use this if you want to use the Original Code Repository\n",
        "# !git clone https://github.com/CodeLogist/RL-Forex-trader-LSTM.git"
      ],
      "execution_count": null,
      "outputs": [
        {
          "output_type": "stream",
          "text": [
            "Cloning into 'RL-Forex-trader-LSTM'...\n",
            "remote: Enumerating objects: 107, done.\u001b[K\n",
            "remote: Counting objects: 100% (107/107), done.\u001b[K\n",
            "remote: Compressing objects: 100% (102/102), done.\u001b[K\n",
            "remote: Total 107 (delta 47), reused 0 (delta 0), pack-reused 0\u001b[K\n",
            "Receiving objects: 100% (107/107), 227.58 KiB | 9.10 MiB/s, done.\n",
            "Resolving deltas: 100% (47/47), done.\n"
          ],
          "name": "stdout"
        }
      ]
    },
    {
      "cell_type": "code",
      "metadata": {
        "colab": {
          "base_uri": "https://localhost:8080/"
        },
        "id": "Zpy_Boujx2bV",
        "outputId": "1f752bb7-9c1a-4402-b78a-bb7b7585085e"
      },
      "source": [
        "!pip install quantstats"
      ],
      "execution_count": null,
      "outputs": [
        {
          "output_type": "stream",
          "text": [
            "Collecting quantstats\n",
            "  Downloading https://files.pythonhosted.org/packages/8c/3f/49bbcd3c74885c6552c92eab6ea6a8b88770fe25ada1a9b4b21dafb52ed8/QuantStats-0.0.34.tar.gz\n",
            "Requirement already satisfied: pandas>=0.24.0 in /usr/local/lib/python3.7/dist-packages (from quantstats) (1.1.5)\n",
            "Requirement already satisfied: numpy>=1.16.5 in /usr/local/lib/python3.7/dist-packages (from quantstats) (1.19.5)\n",
            "Requirement already satisfied: seaborn>=0.9.0 in /usr/local/lib/python3.7/dist-packages (from quantstats) (0.11.1)\n",
            "Requirement already satisfied: matplotlib>=3.0.0 in /usr/local/lib/python3.7/dist-packages (from quantstats) (3.2.2)\n",
            "Requirement already satisfied: scipy>=1.2.0 in /usr/local/lib/python3.7/dist-packages (from quantstats) (1.4.1)\n",
            "Requirement already satisfied: tabulate>=0.8.0 in /usr/local/lib/python3.7/dist-packages (from quantstats) (0.8.9)\n",
            "Collecting yfinance>=0.1.55\n",
            "  Downloading https://files.pythonhosted.org/packages/a7/ee/315752b9ef281ba83c62aa7ec2e2074f85223da6e7e74efb4d3e11c0f510/yfinance-0.1.59.tar.gz\n",
            "Requirement already satisfied: python-dateutil>=2.7.3 in /usr/local/lib/python3.7/dist-packages (from pandas>=0.24.0->quantstats) (2.8.1)\n",
            "Requirement already satisfied: pytz>=2017.2 in /usr/local/lib/python3.7/dist-packages (from pandas>=0.24.0->quantstats) (2018.9)\n",
            "Requirement already satisfied: cycler>=0.10 in /usr/local/lib/python3.7/dist-packages (from matplotlib>=3.0.0->quantstats) (0.10.0)\n",
            "Requirement already satisfied: pyparsing!=2.0.4,!=2.1.2,!=2.1.6,>=2.0.1 in /usr/local/lib/python3.7/dist-packages (from matplotlib>=3.0.0->quantstats) (2.4.7)\n",
            "Requirement already satisfied: kiwisolver>=1.0.1 in /usr/local/lib/python3.7/dist-packages (from matplotlib>=3.0.0->quantstats) (1.3.1)\n",
            "Requirement already satisfied: requests>=2.20 in /usr/local/lib/python3.7/dist-packages (from yfinance>=0.1.55->quantstats) (2.23.0)\n",
            "Requirement already satisfied: multitasking>=0.0.7 in /usr/local/lib/python3.7/dist-packages (from yfinance>=0.1.55->quantstats) (0.0.9)\n",
            "Collecting lxml>=4.5.1\n",
            "\u001b[?25l  Downloading https://files.pythonhosted.org/packages/30/c0/d0526314971fc661b083ab135747dc68446a3022686da8c16d25fcf6ef07/lxml-4.6.3-cp37-cp37m-manylinux2014_x86_64.whl (6.3MB)\n",
            "\u001b[K     |████████████████████████████████| 6.3MB 16.3MB/s \n",
            "\u001b[?25hRequirement already satisfied: six>=1.5 in /usr/local/lib/python3.7/dist-packages (from python-dateutil>=2.7.3->pandas>=0.24.0->quantstats) (1.15.0)\n",
            "Requirement already satisfied: certifi>=2017.4.17 in /usr/local/lib/python3.7/dist-packages (from requests>=2.20->yfinance>=0.1.55->quantstats) (2020.12.5)\n",
            "Requirement already satisfied: idna<3,>=2.5 in /usr/local/lib/python3.7/dist-packages (from requests>=2.20->yfinance>=0.1.55->quantstats) (2.10)\n",
            "Requirement already satisfied: chardet<4,>=3.0.2 in /usr/local/lib/python3.7/dist-packages (from requests>=2.20->yfinance>=0.1.55->quantstats) (3.0.4)\n",
            "Requirement already satisfied: urllib3!=1.25.0,!=1.25.1,<1.26,>=1.21.1 in /usr/local/lib/python3.7/dist-packages (from requests>=2.20->yfinance>=0.1.55->quantstats) (1.24.3)\n",
            "Building wheels for collected packages: quantstats, yfinance\n",
            "  Building wheel for quantstats (setup.py) ... \u001b[?25l\u001b[?25hdone\n",
            "  Created wheel for quantstats: filename=QuantStats-0.0.34-py2.py3-none-any.whl size=37838 sha256=38acf32c7aa0413b3f3c7798d54543da0348155489a52185ffcc3cceca9aa199\n",
            "  Stored in directory: /root/.cache/pip/wheels/33/e7/ca/ae9743f69d64c75b5cec0c302e8ddeff59fcd5494887cac5a4\n",
            "  Building wheel for yfinance (setup.py) ... \u001b[?25l\u001b[?25hdone\n",
            "  Created wheel for yfinance: filename=yfinance-0.1.59-py2.py3-none-any.whl size=23442 sha256=f380d0018a32f932d500ec6b37af05af79a9c92f7bddacd7eba2b83a5044b086\n",
            "  Stored in directory: /root/.cache/pip/wheels/f8/2a/0f/4b5a86e1d52e451757eb6bc17fd899629f0925c777741b6d04\n",
            "Successfully built quantstats yfinance\n",
            "Installing collected packages: lxml, yfinance, quantstats\n",
            "  Found existing installation: lxml 4.2.6\n",
            "    Uninstalling lxml-4.2.6:\n",
            "      Successfully uninstalled lxml-4.2.6\n",
            "Successfully installed lxml-4.6.3 quantstats-0.0.34 yfinance-0.1.59\n"
          ],
          "name": "stdout"
        }
      ]
    },
    {
      "cell_type": "code",
      "metadata": {
        "colab": {
          "base_uri": "https://localhost:8080/"
        },
        "id": "az55QfZiLlhQ",
        "outputId": "4ccd67df-c00d-40e8-f1e7-bb39ba1e1450"
      },
      "source": [
        "!pip install keras-rl2"
      ],
      "execution_count": null,
      "outputs": [
        {
          "output_type": "stream",
          "text": [
            "Collecting keras-rl2\n",
            "\u001b[?25l  Downloading https://files.pythonhosted.org/packages/b6/fc/143ee05aed804b3b9052d7b17b13832bc7f3c28e7b1bc50edd09c29d8525/keras_rl2-1.0.5-py3-none-any.whl (52kB)\n",
            "\r\u001b[K     |██████▎                         | 10kB 15.0MB/s eta 0:00:01\r\u001b[K     |████████████▋                   | 20kB 21.6MB/s eta 0:00:01\r\u001b[K     |██████████████████▉             | 30kB 10.1MB/s eta 0:00:01\r\u001b[K     |█████████████████████████▏      | 40kB 6.8MB/s eta 0:00:01\r\u001b[K     |███████████████████████████████▍| 51kB 7.9MB/s eta 0:00:01\r\u001b[K     |████████████████████████████████| 61kB 4.1MB/s \n",
            "\u001b[?25hRequirement already satisfied: tensorflow in /usr/local/lib/python3.7/dist-packages (from keras-rl2) (2.4.1)\n",
            "Requirement already satisfied: wheel~=0.35 in /usr/local/lib/python3.7/dist-packages (from tensorflow->keras-rl2) (0.36.2)\n",
            "Requirement already satisfied: h5py~=2.10.0 in /usr/local/lib/python3.7/dist-packages (from tensorflow->keras-rl2) (2.10.0)\n",
            "Requirement already satisfied: astunparse~=1.6.3 in /usr/local/lib/python3.7/dist-packages (from tensorflow->keras-rl2) (1.6.3)\n",
            "Requirement already satisfied: opt-einsum~=3.3.0 in /usr/local/lib/python3.7/dist-packages (from tensorflow->keras-rl2) (3.3.0)\n",
            "Requirement already satisfied: keras-preprocessing~=1.1.2 in /usr/local/lib/python3.7/dist-packages (from tensorflow->keras-rl2) (1.1.2)\n",
            "Requirement already satisfied: numpy~=1.19.2 in /usr/local/lib/python3.7/dist-packages (from tensorflow->keras-rl2) (1.19.5)\n",
            "Requirement already satisfied: six~=1.15.0 in /usr/local/lib/python3.7/dist-packages (from tensorflow->keras-rl2) (1.15.0)\n",
            "Requirement already satisfied: absl-py~=0.10 in /usr/local/lib/python3.7/dist-packages (from tensorflow->keras-rl2) (0.12.0)\n",
            "Requirement already satisfied: termcolor~=1.1.0 in /usr/local/lib/python3.7/dist-packages (from tensorflow->keras-rl2) (1.1.0)\n",
            "Requirement already satisfied: grpcio~=1.32.0 in /usr/local/lib/python3.7/dist-packages (from tensorflow->keras-rl2) (1.32.0)\n",
            "Requirement already satisfied: protobuf>=3.9.2 in /usr/local/lib/python3.7/dist-packages (from tensorflow->keras-rl2) (3.12.4)\n",
            "Requirement already satisfied: gast==0.3.3 in /usr/local/lib/python3.7/dist-packages (from tensorflow->keras-rl2) (0.3.3)\n",
            "Requirement already satisfied: flatbuffers~=1.12.0 in /usr/local/lib/python3.7/dist-packages (from tensorflow->keras-rl2) (1.12)\n",
            "Requirement already satisfied: google-pasta~=0.2 in /usr/local/lib/python3.7/dist-packages (from tensorflow->keras-rl2) (0.2.0)\n",
            "Requirement already satisfied: wrapt~=1.12.1 in /usr/local/lib/python3.7/dist-packages (from tensorflow->keras-rl2) (1.12.1)\n",
            "Requirement already satisfied: tensorflow-estimator<2.5.0,>=2.4.0 in /usr/local/lib/python3.7/dist-packages (from tensorflow->keras-rl2) (2.4.0)\n",
            "Requirement already satisfied: typing-extensions~=3.7.4 in /usr/local/lib/python3.7/dist-packages (from tensorflow->keras-rl2) (3.7.4.3)\n",
            "Requirement already satisfied: tensorboard~=2.4 in /usr/local/lib/python3.7/dist-packages (from tensorflow->keras-rl2) (2.4.1)\n",
            "Requirement already satisfied: setuptools in /usr/local/lib/python3.7/dist-packages (from protobuf>=3.9.2->tensorflow->keras-rl2) (56.1.0)\n",
            "Requirement already satisfied: google-auth-oauthlib<0.5,>=0.4.1 in /usr/local/lib/python3.7/dist-packages (from tensorboard~=2.4->tensorflow->keras-rl2) (0.4.4)\n",
            "Requirement already satisfied: google-auth<2,>=1.6.3 in /usr/local/lib/python3.7/dist-packages (from tensorboard~=2.4->tensorflow->keras-rl2) (1.30.0)\n",
            "Requirement already satisfied: werkzeug>=0.11.15 in /usr/local/lib/python3.7/dist-packages (from tensorboard~=2.4->tensorflow->keras-rl2) (2.0.0)\n",
            "Requirement already satisfied: tensorboard-plugin-wit>=1.6.0 in /usr/local/lib/python3.7/dist-packages (from tensorboard~=2.4->tensorflow->keras-rl2) (1.8.0)\n",
            "Requirement already satisfied: markdown>=2.6.8 in /usr/local/lib/python3.7/dist-packages (from tensorboard~=2.4->tensorflow->keras-rl2) (3.3.4)\n",
            "Requirement already satisfied: requests<3,>=2.21.0 in /usr/local/lib/python3.7/dist-packages (from tensorboard~=2.4->tensorflow->keras-rl2) (2.23.0)\n",
            "Requirement already satisfied: requests-oauthlib>=0.7.0 in /usr/local/lib/python3.7/dist-packages (from google-auth-oauthlib<0.5,>=0.4.1->tensorboard~=2.4->tensorflow->keras-rl2) (1.3.0)\n",
            "Requirement already satisfied: pyasn1-modules>=0.2.1 in /usr/local/lib/python3.7/dist-packages (from google-auth<2,>=1.6.3->tensorboard~=2.4->tensorflow->keras-rl2) (0.2.8)\n",
            "Requirement already satisfied: rsa<5,>=3.1.4; python_version >= \"3.6\" in /usr/local/lib/python3.7/dist-packages (from google-auth<2,>=1.6.3->tensorboard~=2.4->tensorflow->keras-rl2) (4.7.2)\n",
            "Requirement already satisfied: cachetools<5.0,>=2.0.0 in /usr/local/lib/python3.7/dist-packages (from google-auth<2,>=1.6.3->tensorboard~=2.4->tensorflow->keras-rl2) (4.2.2)\n",
            "Requirement already satisfied: importlib-metadata; python_version < \"3.8\" in /usr/local/lib/python3.7/dist-packages (from markdown>=2.6.8->tensorboard~=2.4->tensorflow->keras-rl2) (4.0.1)\n",
            "Requirement already satisfied: idna<3,>=2.5 in /usr/local/lib/python3.7/dist-packages (from requests<3,>=2.21.0->tensorboard~=2.4->tensorflow->keras-rl2) (2.10)\n",
            "Requirement already satisfied: urllib3!=1.25.0,!=1.25.1,<1.26,>=1.21.1 in /usr/local/lib/python3.7/dist-packages (from requests<3,>=2.21.0->tensorboard~=2.4->tensorflow->keras-rl2) (1.24.3)\n",
            "Requirement already satisfied: chardet<4,>=3.0.2 in /usr/local/lib/python3.7/dist-packages (from requests<3,>=2.21.0->tensorboard~=2.4->tensorflow->keras-rl2) (3.0.4)\n",
            "Requirement already satisfied: certifi>=2017.4.17 in /usr/local/lib/python3.7/dist-packages (from requests<3,>=2.21.0->tensorboard~=2.4->tensorflow->keras-rl2) (2020.12.5)\n",
            "Requirement already satisfied: oauthlib>=3.0.0 in /usr/local/lib/python3.7/dist-packages (from requests-oauthlib>=0.7.0->google-auth-oauthlib<0.5,>=0.4.1->tensorboard~=2.4->tensorflow->keras-rl2) (3.1.0)\n",
            "Requirement already satisfied: pyasn1<0.5.0,>=0.4.6 in /usr/local/lib/python3.7/dist-packages (from pyasn1-modules>=0.2.1->google-auth<2,>=1.6.3->tensorboard~=2.4->tensorflow->keras-rl2) (0.4.8)\n",
            "Requirement already satisfied: zipp>=0.5 in /usr/local/lib/python3.7/dist-packages (from importlib-metadata; python_version < \"3.8\"->markdown>=2.6.8->tensorboard~=2.4->tensorflow->keras-rl2) (3.4.1)\n",
            "Installing collected packages: keras-rl2\n",
            "Successfully installed keras-rl2-1.0.5\n"
          ],
          "name": "stdout"
        }
      ]
    },
    {
      "cell_type": "code",
      "metadata": {
        "id": "osettNq9EZR8"
      },
      "source": [
        "def datetime_formater(a):\n",
        "    x,y=a\n",
        "    if y==0:\n",
        "        y='000000'\n",
        "    return str(x)+' '+str(y)"
      ],
      "execution_count": null,
      "outputs": []
    },
    {
      "cell_type": "code",
      "metadata": {
        "colab": {
          "base_uri": "https://localhost:8080/",
          "height": 235
        },
        "id": "4EhDm2z0AItF",
        "outputId": "9c04908b-35fa-4e4a-e2ef-0bbb83490488"
      },
      "source": [
        "# Provide the Location to your Dataset Here\n",
        "\n",
        "data=pd.read_csv(\"/content/drive/MyDrive/PriceOnly_EURJPY-2020-11-13.csv\", index_col=False)\n",
        "data.columns=['Date','Time','open','high','low','close']\n",
        "data['DateTime']=pd.to_datetime(data[['Date','Time']].apply(datetime_formater,axis=1),format='%Y%m%d %H%M%S')\n",
        "data.set_index('DateTime',inplace=True)\n",
        "# data.drop(['Date','Time','Open','High','Low'],axis=1,inplace=True)\n",
        "# data.drop(['Date','Time'],axis=1,inplace=True)\n",
        "data.head()"
      ],
      "execution_count": null,
      "outputs": [
        {
          "output_type": "execute_result",
          "data": {
            "text/html": [
              "<div>\n",
              "<style scoped>\n",
              "    .dataframe tbody tr th:only-of-type {\n",
              "        vertical-align: middle;\n",
              "    }\n",
              "\n",
              "    .dataframe tbody tr th {\n",
              "        vertical-align: top;\n",
              "    }\n",
              "\n",
              "    .dataframe thead th {\n",
              "        text-align: right;\n",
              "    }\n",
              "</style>\n",
              "<table border=\"1\" class=\"dataframe\">\n",
              "  <thead>\n",
              "    <tr style=\"text-align: right;\">\n",
              "      <th></th>\n",
              "      <th>Date</th>\n",
              "      <th>Time</th>\n",
              "      <th>open</th>\n",
              "      <th>high</th>\n",
              "      <th>low</th>\n",
              "      <th>close</th>\n",
              "    </tr>\n",
              "    <tr>\n",
              "      <th>DateTime</th>\n",
              "      <th></th>\n",
              "      <th></th>\n",
              "      <th></th>\n",
              "      <th></th>\n",
              "      <th></th>\n",
              "      <th></th>\n",
              "    </tr>\n",
              "  </thead>\n",
              "  <tbody>\n",
              "    <tr>\n",
              "      <th>2015-10-20 21:01:00</th>\n",
              "      <td>20151020</td>\n",
              "      <td>210100</td>\n",
              "      <td>135.941</td>\n",
              "      <td>135.944</td>\n",
              "      <td>135.914</td>\n",
              "      <td>135.941</td>\n",
              "    </tr>\n",
              "    <tr>\n",
              "      <th>2015-10-20 21:02:00</th>\n",
              "      <td>20151020</td>\n",
              "      <td>210200</td>\n",
              "      <td>135.942</td>\n",
              "      <td>135.950</td>\n",
              "      <td>135.939</td>\n",
              "      <td>135.939</td>\n",
              "    </tr>\n",
              "    <tr>\n",
              "      <th>2015-10-20 21:03:00</th>\n",
              "      <td>20151020</td>\n",
              "      <td>210300</td>\n",
              "      <td>135.942</td>\n",
              "      <td>135.947</td>\n",
              "      <td>135.931</td>\n",
              "      <td>135.943</td>\n",
              "    </tr>\n",
              "    <tr>\n",
              "      <th>2015-10-20 21:04:00</th>\n",
              "      <td>20151020</td>\n",
              "      <td>210400</td>\n",
              "      <td>135.947</td>\n",
              "      <td>135.955</td>\n",
              "      <td>135.947</td>\n",
              "      <td>135.950</td>\n",
              "    </tr>\n",
              "    <tr>\n",
              "      <th>2015-10-20 21:05:00</th>\n",
              "      <td>20151020</td>\n",
              "      <td>210500</td>\n",
              "      <td>135.950</td>\n",
              "      <td>135.951</td>\n",
              "      <td>135.942</td>\n",
              "      <td>135.949</td>\n",
              "    </tr>\n",
              "  </tbody>\n",
              "</table>\n",
              "</div>"
            ],
            "text/plain": [
              "                         Date    Time     open     high      low    close\n",
              "DateTime                                                                 \n",
              "2015-10-20 21:01:00  20151020  210100  135.941  135.944  135.914  135.941\n",
              "2015-10-20 21:02:00  20151020  210200  135.942  135.950  135.939  135.939\n",
              "2015-10-20 21:03:00  20151020  210300  135.942  135.947  135.931  135.943\n",
              "2015-10-20 21:04:00  20151020  210400  135.947  135.955  135.947  135.950\n",
              "2015-10-20 21:05:00  20151020  210500  135.950  135.951  135.942  135.949"
            ]
          },
          "metadata": {
            "tags": []
          },
          "execution_count": 3
        }
      ]
    },
    {
      "cell_type": "code",
      "metadata": {
        "id": "MU69qsg28qoI"
      },
      "source": [
        "# 0.01 in Y 5$\n",
        "# 135.941 -> 135.950 | 0.009 *100 *5"
      ],
      "execution_count": null,
      "outputs": []
    },
    {
      "cell_type": "code",
      "metadata": {
        "id": "A9acQvwqHrXx"
      },
      "source": [
        "# Remove Duplicated Indices\n",
        "data = data[~data.index.duplicated(keep='first')]"
      ],
      "execution_count": null,
      "outputs": []
    },
    {
      "cell_type": "code",
      "metadata": {
        "colab": {
          "base_uri": "https://localhost:8080/",
          "height": 282
        },
        "id": "KYT8VrUPc9y4",
        "outputId": "e378187f-2446-49b2-cdf0-65afe90c9cef"
      },
      "source": [
        "# Plot the Values of the \"Close\" Column\n",
        "\n",
        "import matplotlib.pyplot as plt\n",
        "plt.plot(data[\"close\"])"
      ],
      "execution_count": null,
      "outputs": [
        {
          "output_type": "execute_result",
          "data": {
            "text/plain": [
              "[<matplotlib.lines.Line2D at 0x7f1e219e9ad0>]"
            ]
          },
          "metadata": {
            "tags": []
          },
          "execution_count": 5
        },
        {
          "output_type": "display_data",
          "data": {
            "image/png": "[encoded data removed]",
            "text/plain": [
              "<Figure size 432x288 with 1 Axes>"
            ]
          },
          "metadata": {
            "tags": [],
            "needs_background": "light"
          }
        }
      ]
    },
    {
      "cell_type": "code",
      "metadata": {
        "id": "WpDZ9Mt-Eh9C"
      },
      "source": [
        "# Split into Training and Testing Data (80%)\n",
        "l=len(data)\n",
        "train=data[:int(l*0.8)]\n",
        "test=data[int(l*0.8):]"
      ],
      "execution_count": null,
      "outputs": []
    },
    {
      "cell_type": "code",
      "metadata": {
        "colab": {
          "base_uri": "https://localhost:8080/",
          "height": 235
        },
        "id": "Tfp_15riFDVp",
        "outputId": "0d3b4e19-7d6a-4447-e639-1700140d9dc1"
      },
      "source": [
        "train.tail()"
      ],
      "execution_count": null,
      "outputs": [
        {
          "output_type": "execute_result",
          "data": {
            "text/html": [
              "<div>\n",
              "<style scoped>\n",
              "    .dataframe tbody tr th:only-of-type {\n",
              "        vertical-align: middle;\n",
              "    }\n",
              "\n",
              "    .dataframe tbody tr th {\n",
              "        vertical-align: top;\n",
              "    }\n",
              "\n",
              "    .dataframe thead th {\n",
              "        text-align: right;\n",
              "    }\n",
              "</style>\n",
              "<table border=\"1\" class=\"dataframe\">\n",
              "  <thead>\n",
              "    <tr style=\"text-align: right;\">\n",
              "      <th></th>\n",
              "      <th>open</th>\n",
              "      <th>high</th>\n",
              "      <th>low</th>\n",
              "      <th>close</th>\n",
              "    </tr>\n",
              "    <tr>\n",
              "      <th>DateTime</th>\n",
              "      <th></th>\n",
              "      <th></th>\n",
              "      <th></th>\n",
              "      <th></th>\n",
              "    </tr>\n",
              "  </thead>\n",
              "  <tbody>\n",
              "    <tr>\n",
              "      <th>2019-11-05 22:29:00</th>\n",
              "      <td>120.864</td>\n",
              "      <td>120.864</td>\n",
              "      <td>120.857</td>\n",
              "      <td>120.858</td>\n",
              "    </tr>\n",
              "    <tr>\n",
              "      <th>2019-11-05 22:31:00</th>\n",
              "      <td>120.862</td>\n",
              "      <td>120.880</td>\n",
              "      <td>120.862</td>\n",
              "      <td>120.873</td>\n",
              "    </tr>\n",
              "    <tr>\n",
              "      <th>2019-11-05 22:32:00</th>\n",
              "      <td>120.877</td>\n",
              "      <td>120.878</td>\n",
              "      <td>120.872</td>\n",
              "      <td>120.874</td>\n",
              "    </tr>\n",
              "    <tr>\n",
              "      <th>2019-11-05 22:33:00</th>\n",
              "      <td>120.874</td>\n",
              "      <td>120.876</td>\n",
              "      <td>120.873</td>\n",
              "      <td>120.873</td>\n",
              "    </tr>\n",
              "    <tr>\n",
              "      <th>2019-11-05 22:34:00</th>\n",
              "      <td>120.873</td>\n",
              "      <td>120.874</td>\n",
              "      <td>120.872</td>\n",
              "      <td>120.872</td>\n",
              "    </tr>\n",
              "  </tbody>\n",
              "</table>\n",
              "</div>"
            ],
            "text/plain": [
              "                        open     high      low    close\n",
              "DateTime                                               \n",
              "2019-11-05 22:29:00  120.864  120.864  120.857  120.858\n",
              "2019-11-05 22:31:00  120.862  120.880  120.862  120.873\n",
              "2019-11-05 22:32:00  120.877  120.878  120.872  120.874\n",
              "2019-11-05 22:33:00  120.874  120.876  120.873  120.873\n",
              "2019-11-05 22:34:00  120.873  120.874  120.872  120.872"
            ]
          },
          "metadata": {
            "tags": []
          },
          "execution_count": 7
        }
      ]
    },
    {
      "cell_type": "code",
      "metadata": {
        "colab": {
          "base_uri": "https://localhost:8080/",
          "height": 235
        },
        "id": "Urubg5GpFG98",
        "outputId": "04327ef4-d663-45b3-86fe-551de0f6cf13"
      },
      "source": [
        "test.head()"
      ],
      "execution_count": null,
      "outputs": [
        {
          "output_type": "execute_result",
          "data": {
            "text/html": [
              "<div>\n",
              "<style scoped>\n",
              "    .dataframe tbody tr th:only-of-type {\n",
              "        vertical-align: middle;\n",
              "    }\n",
              "\n",
              "    .dataframe tbody tr th {\n",
              "        vertical-align: top;\n",
              "    }\n",
              "\n",
              "    .dataframe thead th {\n",
              "        text-align: right;\n",
              "    }\n",
              "</style>\n",
              "<table border=\"1\" class=\"dataframe\">\n",
              "  <thead>\n",
              "    <tr style=\"text-align: right;\">\n",
              "      <th></th>\n",
              "      <th>open</th>\n",
              "      <th>high</th>\n",
              "      <th>low</th>\n",
              "      <th>close</th>\n",
              "    </tr>\n",
              "    <tr>\n",
              "      <th>DateTime</th>\n",
              "      <th></th>\n",
              "      <th></th>\n",
              "      <th></th>\n",
              "      <th></th>\n",
              "    </tr>\n",
              "  </thead>\n",
              "  <tbody>\n",
              "    <tr>\n",
              "      <th>2019-11-05 22:35:00</th>\n",
              "      <td>120.873</td>\n",
              "      <td>120.875</td>\n",
              "      <td>120.872</td>\n",
              "      <td>120.875</td>\n",
              "    </tr>\n",
              "    <tr>\n",
              "      <th>2019-11-05 22:36:00</th>\n",
              "      <td>120.875</td>\n",
              "      <td>120.877</td>\n",
              "      <td>120.874</td>\n",
              "      <td>120.875</td>\n",
              "    </tr>\n",
              "    <tr>\n",
              "      <th>2019-11-05 22:37:00</th>\n",
              "      <td>120.875</td>\n",
              "      <td>120.875</td>\n",
              "      <td>120.874</td>\n",
              "      <td>120.875</td>\n",
              "    </tr>\n",
              "    <tr>\n",
              "      <th>2019-11-05 22:38:00</th>\n",
              "      <td>120.875</td>\n",
              "      <td>120.879</td>\n",
              "      <td>120.875</td>\n",
              "      <td>120.877</td>\n",
              "    </tr>\n",
              "    <tr>\n",
              "      <th>2019-11-05 22:39:00</th>\n",
              "      <td>120.878</td>\n",
              "      <td>120.878</td>\n",
              "      <td>120.876</td>\n",
              "      <td>120.878</td>\n",
              "    </tr>\n",
              "  </tbody>\n",
              "</table>\n",
              "</div>"
            ],
            "text/plain": [
              "                        open     high      low    close\n",
              "DateTime                                               \n",
              "2019-11-05 22:35:00  120.873  120.875  120.872  120.875\n",
              "2019-11-05 22:36:00  120.875  120.877  120.874  120.875\n",
              "2019-11-05 22:37:00  120.875  120.875  120.874  120.875\n",
              "2019-11-05 22:38:00  120.875  120.879  120.875  120.877\n",
              "2019-11-05 22:39:00  120.878  120.878  120.876  120.878"
            ]
          },
          "metadata": {
            "tags": []
          },
          "execution_count": 8
        }
      ]
    },
    {
      "cell_type": "code",
      "metadata": {
        "colab": {
          "base_uri": "https://localhost:8080/",
          "height": 235
        },
        "id": "NWxsQoTkUSk_",
        "outputId": "40cd1006-a14b-4750-df41-32c1aa616d3b"
      },
      "source": [
        "test.tail()"
      ],
      "execution_count": null,
      "outputs": [
        {
          "output_type": "execute_result",
          "data": {
            "text/html": [
              "<div>\n",
              "<style scoped>\n",
              "    .dataframe tbody tr th:only-of-type {\n",
              "        vertical-align: middle;\n",
              "    }\n",
              "\n",
              "    .dataframe tbody tr th {\n",
              "        vertical-align: top;\n",
              "    }\n",
              "\n",
              "    .dataframe thead th {\n",
              "        text-align: right;\n",
              "    }\n",
              "</style>\n",
              "<table border=\"1\" class=\"dataframe\">\n",
              "  <thead>\n",
              "    <tr style=\"text-align: right;\">\n",
              "      <th></th>\n",
              "      <th>open</th>\n",
              "      <th>high</th>\n",
              "      <th>low</th>\n",
              "      <th>close</th>\n",
              "    </tr>\n",
              "    <tr>\n",
              "      <th>DateTime</th>\n",
              "      <th></th>\n",
              "      <th></th>\n",
              "      <th></th>\n",
              "      <th></th>\n",
              "    </tr>\n",
              "  </thead>\n",
              "  <tbody>\n",
              "    <tr>\n",
              "      <th>2020-11-13 08:53:00</th>\n",
              "      <td>124.209</td>\n",
              "      <td>124.209</td>\n",
              "      <td>124.193</td>\n",
              "      <td>124.202</td>\n",
              "    </tr>\n",
              "    <tr>\n",
              "      <th>2020-11-13 08:54:00</th>\n",
              "      <td>124.201</td>\n",
              "      <td>124.207</td>\n",
              "      <td>124.195</td>\n",
              "      <td>124.205</td>\n",
              "    </tr>\n",
              "    <tr>\n",
              "      <th>2020-11-13 08:55:00</th>\n",
              "      <td>124.204</td>\n",
              "      <td>124.216</td>\n",
              "      <td>124.193</td>\n",
              "      <td>124.193</td>\n",
              "    </tr>\n",
              "    <tr>\n",
              "      <th>2020-11-13 08:56:00</th>\n",
              "      <td>124.192</td>\n",
              "      <td>124.192</td>\n",
              "      <td>124.175</td>\n",
              "      <td>124.184</td>\n",
              "    </tr>\n",
              "    <tr>\n",
              "      <th>2020-11-13 08:57:00</th>\n",
              "      <td>124.183</td>\n",
              "      <td>124.184</td>\n",
              "      <td>124.152</td>\n",
              "      <td>124.152</td>\n",
              "    </tr>\n",
              "  </tbody>\n",
              "</table>\n",
              "</div>"
            ],
            "text/plain": [
              "                        open     high      low    close\n",
              "DateTime                                               \n",
              "2020-11-13 08:53:00  124.209  124.209  124.193  124.202\n",
              "2020-11-13 08:54:00  124.201  124.207  124.195  124.205\n",
              "2020-11-13 08:55:00  124.204  124.216  124.193  124.193\n",
              "2020-11-13 08:56:00  124.192  124.192  124.175  124.184\n",
              "2020-11-13 08:57:00  124.183  124.184  124.152  124.152"
            ]
          },
          "metadata": {
            "tags": []
          },
          "execution_count": 9
        }
      ]
    },
    {
      "cell_type": "code",
      "metadata": {
        "colab": {
          "base_uri": "https://localhost:8080/"
        },
        "id": "JKtQRdeRbBtA",
        "outputId": "c1d97535-c0d1-48c1-af14-a32277b10953"
      },
      "source": [
        "len(test)"
      ],
      "execution_count": null,
      "outputs": [
        {
          "output_type": "execute_result",
          "data": {
            "text/plain": [
              "337715"
            ]
          },
          "metadata": {
            "tags": []
          },
          "execution_count": 13
        }
      ]
    },
    {
      "cell_type": "code",
      "metadata": {
        "id": "Cwf_N3D1FVcl"
      },
      "source": [
        "# Make a few Directories for Storing some Data\n",
        "\n",
        "import os\n",
        "os.makedirs(\"/content/data\")\n",
        "os.makedirs(\"/content/data/train\")\n",
        "os.makedirs(\"/content/data/test\")\n",
        "os.makedirs(\"/content/info\")"
      ],
      "execution_count": null,
      "outputs": []
    },
    {
      "cell_type": "code",
      "metadata": {
        "id": "nuFll9FWFfKa"
      },
      "source": [
        "# Save the Train and Test Set\n",
        "\n",
        "train.to_csv(\"/content/data/train/train.csv\")\n",
        "test.to_csv(\"/content/data/test/test.csv\")"
      ],
      "execution_count": null,
      "outputs": []
    },
    {
      "cell_type": "code",
      "metadata": {
        "id": "trfNjnsEe6N3"
      },
      "source": [
        "import pandas as pd\n",
        "import numpy as np\n",
        "\n",
        "import tensorflow as tf\n",
        "\n",
        "from keras.models import Sequential, Model\n",
        "from keras.layers import Dense, Activation, Flatten, LSTM, Bidirectional, GlobalAveragePooling1D, GlobalMaxPooling1D, concatenate, Input, Reshape\n",
        "from keras.layers import *\n",
        "from keras.optimizers import Adam\n",
        "\n",
        "from rl.agents.dqn import DQNAgent\n",
        "from rl.policy import BoltzmannQPolicy, EpsGreedyQPolicy\n",
        "from rl.memory import SequentialMemory\n",
        "\n",
        "# trader environment\n",
        "from TraderEnv import OhlcvEnv\n",
        "# custom normalizer\n",
        "from util import NormalizerProcessor\n",
        "\n",
        "import quantstats as qs\n",
        "import warnings\n",
        "warnings.filterwarnings(\"ignore\")"
      ],
      "execution_count": null,
      "outputs": []
    },
    {
      "cell_type": "code",
      "metadata": {
        "id": "imvc7-cOgTDQ"
      },
      "source": [
        "#Uncomment the Create Model function for the model you want to use\n",
        "\n",
        "\n",
        "def Inception_A(layer_in, c7):\n",
        "  branch1x1_1 = Conv1D(c7, kernel_size=1, padding=\"same\", use_bias=False)(layer_in)\n",
        "  branch1x1 = BatchNormalization()(branch1x1_1)\n",
        "  branch1x1 = ReLU()(branch1x1)\n",
        "  \n",
        "  branch5x5_1 = Conv1D(c7, kernel_size=1, padding='same', use_bias=False)(layer_in)\n",
        "  branch5x5 = BatchNormalization()(branch5x5_1)\n",
        "  branch5x5 = ReLU()(branch5x5)\n",
        "  branch5x5 = Conv1D(c7, kernel_size=5, padding='same', use_bias=False)(branch5x5)\n",
        "  branch5x5 = BatchNormalization()(branch5x5)\n",
        "  branch5x5 = ReLU()(branch5x5)  \n",
        "  \n",
        "  branch3x3_1 = Conv1D(c7, kernel_size=1, padding='same', use_bias=False)(layer_in)\n",
        "  branch3x3 = BatchNormalization()(branch3x3_1)\n",
        "  branch3x3 = ReLU()(branch3x3)\n",
        "  branch3x3 = Conv1D(c7, kernel_size=3, padding='same', use_bias=False)(branch3x3)\n",
        "  branch3x3 = BatchNormalization()(branch3x3)\n",
        "  branch3x3 = ReLU()(branch3x3)\n",
        "  branch3x3 = Conv1D(c7, kernel_size=3, padding='same', use_bias=False)(branch3x3)\n",
        "  branch3x3 = BatchNormalization()(branch3x3)\n",
        "  branch3x3 = ReLU()(branch3x3) \n",
        "  \n",
        "\n",
        "  branch_pool = AveragePooling1D(pool_size=(3), strides=1, padding='same')(layer_in)\n",
        "  branch_pool = Conv1D(c7, kernel_size=1, padding='same', use_bias=False)(branch_pool)\n",
        "  branch_pool = BatchNormalization()(branch_pool)\n",
        "  branch_pool = ReLU()(branch_pool)\n",
        "  outputs = Concatenate(axis=-1)([branch1x1, branch5x5, branch3x3, branch_pool])\n",
        "  return outputs\n",
        "\n",
        "\n",
        "def Inception_B(layer_in, c7):\n",
        "  branch3x3 = Conv1D(c7, kernel_size=3, padding=\"same\", strides=2, use_bias=False)(layer_in)\n",
        "  branch3x3 = BatchNormalization()(branch3x3)\n",
        "  branch3x3 = ReLU()(branch3x3)  \n",
        "  \n",
        "  branch3x3dbl = Conv1D(c7, kernel_size=1, padding=\"same\", use_bias=False)(layer_in)\n",
        "  branch3x3dbl = BatchNormalization()(branch3x3dbl)\n",
        "  branch3x3dbl = ReLU()(branch3x3dbl)  \n",
        "  branch3x3dbl = Conv1D(c7, kernel_size=3, padding=\"same\", use_bias=False)(branch3x3dbl)  \n",
        "  branch3x3dbl = BatchNormalization()(branch3x3dbl)\n",
        "  branch3x3dbl = ReLU()(branch3x3dbl)  \n",
        "  branch3x3dbl = Conv1D(c7, kernel_size=3, padding=\"same\", strides=2, use_bias=False)(branch3x3dbl)    \n",
        "  branch3x3dbl = BatchNormalization()(branch3x3dbl)\n",
        "  branch3x3dbl = ReLU()(branch3x3dbl)   \n",
        "  \n",
        "  branch_pool = MaxPooling1D(pool_size=3, strides=2, padding=\"same\")(layer_in)\n",
        "  \n",
        "  outputs = Concatenate(axis=-1)([branch3x3, branch3x3dbl, branch_pool])\n",
        "  return outputs\n",
        "\n",
        "\n",
        "def Inception_C(layer_in, c7):\n",
        "  branch1x1_1 = Conv1D(c7, kernel_size=1, padding=\"same\", use_bias=False)(layer_in)\n",
        "  branch1x1 = BatchNormalization()(branch1x1_1)\n",
        "  branch1x1 = ReLU()(branch1x1)   \n",
        "  \n",
        "  branch7x7_1 = Conv1D(c7, kernel_size=1, padding=\"same\", use_bias=False)(layer_in)\n",
        "  branch7x7 = BatchNormalization()(branch7x7_1)\n",
        "  branch7x7 = ReLU()(branch7x7)   \n",
        "  branch7x7 = Conv1D(c7, kernel_size=(7), padding=\"same\", use_bias=False)(branch7x7)\n",
        "  branch7x7 = BatchNormalization()(branch7x7)\n",
        "  branch7x7 = ReLU()(branch7x7)  \n",
        "  branch7x7 = Conv1D(c7, kernel_size=(1), padding=\"same\", use_bias=False)(branch7x7)  \n",
        "  branch7x7 = BatchNormalization()(branch7x7)\n",
        "  branch7x7 = ReLU()(branch7x7)   \n",
        "\n",
        "  branch7x7dbl_1 = Conv1D(c7, kernel_size=1, padding=\"same\", use_bias=False)(layer_in)  \n",
        "  branch7x7dbl = BatchNormalization()(branch7x7dbl_1)\n",
        "  branch7x7dbl = ReLU()(branch7x7dbl)  \n",
        "  branch7x7dbl = Conv1D(c7, kernel_size=(7), padding=\"same\", use_bias=False)(branch7x7dbl)  \n",
        "  branch7x7dbl = BatchNormalization()(branch7x7dbl)\n",
        "  branch7x7dbl = ReLU()(branch7x7dbl) \n",
        "  branch7x7dbl = Conv1D(c7, kernel_size=(1), padding=\"same\", use_bias=False)(branch7x7dbl)  \n",
        "  branch7x7dbl = BatchNormalization()(branch7x7dbl)\n",
        "  branch7x7dbl = ReLU()(branch7x7dbl)  \n",
        "  branch7x7dbl = Conv1D(c7, kernel_size=(7), padding=\"same\", use_bias=False)(branch7x7dbl)  \n",
        "  branch7x7dbl = BatchNormalization()(branch7x7dbl)\n",
        "  branch7x7dbl = ReLU()(branch7x7dbl)  \n",
        "  branch7x7dbl = Conv1D(c7, kernel_size=(1), padding=\"same\", use_bias=False)(branch7x7dbl)  \n",
        "  branch7x7dbl = BatchNormalization()(branch7x7dbl)\n",
        "  branch7x7dbl = ReLU()(branch7x7dbl)  \n",
        "  \n",
        "  branch_pool = AveragePooling1D(pool_size=3, strides=1, padding='same')(layer_in)\n",
        "  branch_pool = Conv1D(c7, kernel_size=1, padding='same', use_bias=False)(branch_pool)\n",
        "  branch_pool = BatchNormalization()(branch_pool)\n",
        "  branch_pool = ReLU()(branch_pool)  \n",
        "  \n",
        "  outputs = Concatenate(axis=-1)([branch1x1, branch7x7, branch7x7dbl, branch_pool])\n",
        "  return outputs\n",
        "\n",
        "# CNN + LSTM\n",
        "\n",
        "# def create_model(shape, nb_actions):\n",
        "#   in_seq = Input(shape=shape)\n",
        "\n",
        "#   x = Inception_A(in_seq, 32)\n",
        "#   x = Inception_A(x, 32)\n",
        "#   x = Inception_B(x, 32)\n",
        "#   x = Inception_B(x, 32)\n",
        "#   x = Inception_C(x, 32)\n",
        "#   x = Inception_C(x, 32)    \n",
        "          \n",
        "#   x = LSTM(128, return_sequences=True)(x)\n",
        "#   x = LSTM(128, return_sequences=True)(x)\n",
        "#   x = LSTM(64, return_sequences=True)(x) \n",
        "          \n",
        "#   avg_pool = GlobalAveragePooling1D()(x)\n",
        "#   max_pool = GlobalMaxPooling1D()(x)\n",
        "#   conc = concatenate([avg_pool, max_pool])\n",
        "#   conc = Dense(64, activation=\"relu\")(conc)\n",
        "#   out = Dense(nb_actions, activation=\"softmax\")(conc)      \n",
        "\n",
        "#   model = Model(inputs=in_seq, outputs=out)\n",
        "#   model.compile(optimizer=\"adam\", loss=\"mse\")\n",
        "#   model.call = tf.function(model.call)\n",
        "#   return model\n",
        "\n",
        "# LSTM\n",
        "\n",
        "# def create_model(shape, nb_actions):\n",
        "#     model = Sequential()\n",
        "#     model.add(LSTM(64, input_shape=shape, return_sequences=True))\n",
        "#     model.add(LSTM(64))\n",
        "#     model.add(Dense(32))\n",
        "#     model.add(Activation('relu'))\n",
        "#     model.add(Dense(nb_actions, activation='softmax'))\n",
        "#     return model\n",
        "\n",
        "# BiDirectional LSTM\n",
        "\n",
        "# def create_model(shape, nb_actions):\n",
        "#   in_seq = Input(shape = shape)\n",
        "      \n",
        "#   x = Bidirectional(LSTM(128, return_sequences=True))(in_seq)\n",
        "#   x = Bidirectional(LSTM(128, return_sequences=True))(x)\n",
        "#   x = Bidirectional(LSTM(64, return_sequences=True))(x) \n",
        "          \n",
        "#   avg_pool = GlobalAveragePooling1D()(x)\n",
        "#   max_pool = GlobalMaxPooling1D()(x)\n",
        "#   conc = concatenate([avg_pool, max_pool])\n",
        "#   conc = Dense(64, activation=\"relu\")(conc)\n",
        "#   out = Dense(nb_actions, activation=\"linear\")(conc)\n",
        "#   #out=Reshape([nb_actions])(out)  \n",
        "\n",
        "#   model = Model(inputs=in_seq, outputs=out)   \n",
        "#   return model\n",
        "\n",
        "# CNN + BiDirectional LSTM\n",
        "\n",
        "def create_model(shape, nb_actions):\n",
        "  in_seq = Input(shape=shape)\n",
        "\n",
        "  x = Inception_A(in_seq, 32)\n",
        "  x = Inception_A(x, 32)\n",
        "  x = Inception_B(x, 32)\n",
        "  x = Inception_B(x, 32)\n",
        "  x = Inception_C(x, 32)\n",
        "  x = Inception_C(x, 32)    \n",
        "          \n",
        "  x = Bidirectional(LSTM(128, return_sequences=True))(x)\n",
        "  x = Bidirectional(LSTM(128, return_sequences=True))(x)\n",
        "  x = Bidirectional(LSTM(64, return_sequences=True))(x) \n",
        "          \n",
        "  avg_pool = GlobalAveragePooling1D()(x)\n",
        "  max_pool = GlobalMaxPooling1D()(x)\n",
        "  conc = concatenate([avg_pool, max_pool])\n",
        "  conc = Dense(64, activation=\"relu\")(conc)\n",
        "  out = Dense(nb_actions, activation=\"softmax\")(conc)      \n",
        "\n",
        "  model = Model(inputs=in_seq, outputs=out)\n",
        "  return model"
      ],
      "execution_count": null,
      "outputs": []
    },
    {
      "cell_type": "code",
      "metadata": {
        "colab": {
          "base_uri": "https://localhost:8080/"
        },
        "id": "JKH2s6eQevl3",
        "outputId": "7908c572-4bd1-4780-9192-3dd8c727a9b8"
      },
      "source": [
        "from keras.models import load_model\n",
        "\n",
        "ENV_NAME = 'OHLCV-v0'\n",
        "TIME_STEP = 30 #Update TIME_STEP in TraderEnv.py as well.\n",
        "PATH_TRAIN = \"./data/train/\"\n",
        "PATH_TEST = \"./data/test/\"\n",
        "env = OhlcvEnv(TIME_STEP, path=PATH_TRAIN)\n",
        "env_test = OhlcvEnv(TIME_STEP, path=PATH_TEST)\n",
        "\n",
        "# random seed\n",
        "np.random.seed(123)\n",
        "env.seed(123)\n",
        "\n",
        "# create_model\n",
        "nb_actions = env.action_space.n\n",
        "model = create_model(shape=env.shape, nb_actions=nb_actions)\n",
        "# model=load_model(\"sample_model.h5\")                               # Uncomment if you want to use a saved Model\n",
        "print(model.summary())\n",
        "\n",
        "\n",
        "# create memory\n",
        "memory = SequentialMemory(limit=50000, window_length=TIME_STEP)\n",
        "\n",
        "# create policy\n",
        "policy = EpsGreedyQPolicy()# policy = BoltzmannQPolicy()\n",
        "\n",
        "# create agent\n",
        "# you can specify the dueling_type to one of {'avg','max','naive'}\n",
        "dqn = DQNAgent(model=model, nb_actions=nb_actions, memory=memory, nb_steps_warmup=200,\n",
        "               enable_dueling_network=True, dueling_type='avg', target_model_update=1e-2, policy=policy,\n",
        "               processor=NormalizerProcessor())\n",
        "dqn.compile(Adam(lr=1e-3), metrics=['mae'])"
      ],
      "execution_count": null,
      "outputs": [
        {
          "output_type": "stream",
          "text": [
            "Model: \"model_3\"\n",
            "__________________________________________________________________________________________________\n",
            "Layer (type)                    Output Shape         Param #     Connected to                     \n",
            "==================================================================================================\n",
            "input_2 (InputLayer)            [(None, 30, 11)]     0                                            \n",
            "__________________________________________________________________________________________________\n",
            "conv1d_45 (Conv1D)              (None, 30, 32)       352         input_2[0][0]                    \n",
            "__________________________________________________________________________________________________\n",
            "batch_normalization_45 (BatchNo (None, 30, 32)       128         conv1d_45[0][0]                  \n",
            "__________________________________________________________________________________________________\n",
            "re_lu_45 (ReLU)                 (None, 30, 32)       0           batch_normalization_45[0][0]     \n",
            "__________________________________________________________________________________________________\n",
            "conv1d_43 (Conv1D)              (None, 30, 32)       352         input_2[0][0]                    \n",
            "__________________________________________________________________________________________________\n",
            "conv1d_46 (Conv1D)              (None, 30, 32)       3072        re_lu_45[0][0]                   \n",
            "__________________________________________________________________________________________________\n",
            "batch_normalization_43 (BatchNo (None, 30, 32)       128         conv1d_43[0][0]                  \n",
            "__________________________________________________________________________________________________\n",
            "batch_normalization_46 (BatchNo (None, 30, 32)       128         conv1d_46[0][0]                  \n",
            "__________________________________________________________________________________________________\n",
            "re_lu_43 (ReLU)                 (None, 30, 32)       0           batch_normalization_43[0][0]     \n",
            "__________________________________________________________________________________________________\n",
            "re_lu_46 (ReLU)                 (None, 30, 32)       0           batch_normalization_46[0][0]     \n",
            "__________________________________________________________________________________________________\n",
            "average_pooling1d_4 (AveragePoo (None, 30, 11)       0           input_2[0][0]                    \n",
            "__________________________________________________________________________________________________\n",
            "conv1d_42 (Conv1D)              (None, 30, 32)       352         input_2[0][0]                    \n",
            "__________________________________________________________________________________________________\n",
            "conv1d_44 (Conv1D)              (None, 30, 32)       5120        re_lu_43[0][0]                   \n",
            "__________________________________________________________________________________________________\n",
            "conv1d_47 (Conv1D)              (None, 30, 32)       3072        re_lu_46[0][0]                   \n",
            "__________________________________________________________________________________________________\n",
            "conv1d_48 (Conv1D)              (None, 30, 32)       352         average_pooling1d_4[0][0]        \n",
            "__________________________________________________________________________________________________\n",
            "batch_normalization_42 (BatchNo (None, 30, 32)       128         conv1d_42[0][0]                  \n",
            "__________________________________________________________________________________________________\n",
            "batch_normalization_44 (BatchNo (None, 30, 32)       128         conv1d_44[0][0]                  \n",
            "__________________________________________________________________________________________________\n",
            "batch_normalization_47 (BatchNo (None, 30, 32)       128         conv1d_47[0][0]                  \n",
            "__________________________________________________________________________________________________\n",
            "batch_normalization_48 (BatchNo (None, 30, 32)       128         conv1d_48[0][0]                  \n",
            "__________________________________________________________________________________________________\n",
            "re_lu_42 (ReLU)                 (None, 30, 32)       0           batch_normalization_42[0][0]     \n",
            "__________________________________________________________________________________________________\n",
            "re_lu_44 (ReLU)                 (None, 30, 32)       0           batch_normalization_44[0][0]     \n",
            "__________________________________________________________________________________________________\n",
            "re_lu_47 (ReLU)                 (None, 30, 32)       0           batch_normalization_47[0][0]     \n",
            "__________________________________________________________________________________________________\n",
            "re_lu_48 (ReLU)                 (None, 30, 32)       0           batch_normalization_48[0][0]     \n",
            "__________________________________________________________________________________________________\n",
            "concatenate_7 (Concatenate)     (None, 30, 128)      0           re_lu_42[0][0]                   \n",
            "                                                                 re_lu_44[0][0]                   \n",
            "                                                                 re_lu_47[0][0]                   \n",
            "                                                                 re_lu_48[0][0]                   \n",
            "__________________________________________________________________________________________________\n",
            "conv1d_52 (Conv1D)              (None, 30, 32)       4096        concatenate_7[0][0]              \n",
            "__________________________________________________________________________________________________\n",
            "batch_normalization_52 (BatchNo (None, 30, 32)       128         conv1d_52[0][0]                  \n",
            "__________________________________________________________________________________________________\n",
            "re_lu_52 (ReLU)                 (None, 30, 32)       0           batch_normalization_52[0][0]     \n",
            "__________________________________________________________________________________________________\n",
            "conv1d_50 (Conv1D)              (None, 30, 32)       4096        concatenate_7[0][0]              \n",
            "__________________________________________________________________________________________________\n",
            "conv1d_53 (Conv1D)              (None, 30, 32)       3072        re_lu_52[0][0]                   \n",
            "__________________________________________________________________________________________________\n",
            "batch_normalization_50 (BatchNo (None, 30, 32)       128         conv1d_50[0][0]                  \n",
            "__________________________________________________________________________________________________\n",
            "batch_normalization_53 (BatchNo (None, 30, 32)       128         conv1d_53[0][0]                  \n",
            "__________________________________________________________________________________________________\n",
            "re_lu_50 (ReLU)                 (None, 30, 32)       0           batch_normalization_50[0][0]     \n",
            "__________________________________________________________________________________________________\n",
            "re_lu_53 (ReLU)                 (None, 30, 32)       0           batch_normalization_53[0][0]     \n",
            "__________________________________________________________________________________________________\n",
            "average_pooling1d_5 (AveragePoo (None, 30, 128)      0           concatenate_7[0][0]              \n",
            "__________________________________________________________________________________________________\n",
            "conv1d_49 (Conv1D)              (None, 30, 32)       4096        concatenate_7[0][0]              \n",
            "__________________________________________________________________________________________________\n",
            "conv1d_51 (Conv1D)              (None, 30, 32)       5120        re_lu_50[0][0]                   \n",
            "__________________________________________________________________________________________________\n",
            "conv1d_54 (Conv1D)              (None, 30, 32)       3072        re_lu_53[0][0]                   \n",
            "__________________________________________________________________________________________________\n",
            "conv1d_55 (Conv1D)              (None, 30, 32)       4096        average_pooling1d_5[0][0]        \n",
            "__________________________________________________________________________________________________\n",
            "batch_normalization_49 (BatchNo (None, 30, 32)       128         conv1d_49[0][0]                  \n",
            "__________________________________________________________________________________________________\n",
            "batch_normalization_51 (BatchNo (None, 30, 32)       128         conv1d_51[0][0]                  \n",
            "__________________________________________________________________________________________________\n",
            "batch_normalization_54 (BatchNo (None, 30, 32)       128         conv1d_54[0][0]                  \n",
            "__________________________________________________________________________________________________\n",
            "batch_normalization_55 (BatchNo (None, 30, 32)       128         conv1d_55[0][0]                  \n",
            "__________________________________________________________________________________________________\n",
            "re_lu_49 (ReLU)                 (None, 30, 32)       0           batch_normalization_49[0][0]     \n",
            "__________________________________________________________________________________________________\n",
            "re_lu_51 (ReLU)                 (None, 30, 32)       0           batch_normalization_51[0][0]     \n",
            "__________________________________________________________________________________________________\n",
            "re_lu_54 (ReLU)                 (None, 30, 32)       0           batch_normalization_54[0][0]     \n",
            "__________________________________________________________________________________________________\n",
            "re_lu_55 (ReLU)                 (None, 30, 32)       0           batch_normalization_55[0][0]     \n",
            "__________________________________________________________________________________________________\n",
            "concatenate_8 (Concatenate)     (None, 30, 128)      0           re_lu_49[0][0]                   \n",
            "                                                                 re_lu_51[0][0]                   \n",
            "                                                                 re_lu_54[0][0]                   \n",
            "                                                                 re_lu_55[0][0]                   \n",
            "__________________________________________________________________________________________________\n",
            "conv1d_57 (Conv1D)              (None, 30, 32)       4096        concatenate_8[0][0]              \n",
            "__________________________________________________________________________________________________\n",
            "batch_normalization_57 (BatchNo (None, 30, 32)       128         conv1d_57[0][0]                  \n",
            "__________________________________________________________________________________________________\n",
            "re_lu_57 (ReLU)                 (None, 30, 32)       0           batch_normalization_57[0][0]     \n",
            "__________________________________________________________________________________________________\n",
            "conv1d_58 (Conv1D)              (None, 30, 32)       3072        re_lu_57[0][0]                   \n",
            "__________________________________________________________________________________________________\n",
            "batch_normalization_58 (BatchNo (None, 30, 32)       128         conv1d_58[0][0]                  \n",
            "__________________________________________________________________________________________________\n",
            "re_lu_58 (ReLU)                 (None, 30, 32)       0           batch_normalization_58[0][0]     \n",
            "__________________________________________________________________________________________________\n",
            "conv1d_56 (Conv1D)              (None, 15, 32)       12288       concatenate_8[0][0]              \n",
            "__________________________________________________________________________________________________\n",
            "conv1d_59 (Conv1D)              (None, 15, 32)       3072        re_lu_58[0][0]                   \n",
            "__________________________________________________________________________________________________\n",
            "batch_normalization_56 (BatchNo (None, 15, 32)       128         conv1d_56[0][0]                  \n",
            "__________________________________________________________________________________________________\n",
            "batch_normalization_59 (BatchNo (None, 15, 32)       128         conv1d_59[0][0]                  \n",
            "__________________________________________________________________________________________________\n",
            "re_lu_56 (ReLU)                 (None, 15, 32)       0           batch_normalization_56[0][0]     \n",
            "__________________________________________________________________________________________________\n",
            "re_lu_59 (ReLU)                 (None, 15, 32)       0           batch_normalization_59[0][0]     \n",
            "__________________________________________________________________________________________________\n",
            "max_pooling1d_2 (MaxPooling1D)  (None, 15, 128)      0           concatenate_8[0][0]              \n",
            "__________________________________________________________________________________________________\n",
            "concatenate_9 (Concatenate)     (None, 15, 192)      0           re_lu_56[0][0]                   \n",
            "                                                                 re_lu_59[0][0]                   \n",
            "                                                                 max_pooling1d_2[0][0]            \n",
            "__________________________________________________________________________________________________\n",
            "conv1d_61 (Conv1D)              (None, 15, 32)       6144        concatenate_9[0][0]              \n",
            "__________________________________________________________________________________________________\n",
            "batch_normalization_61 (BatchNo (None, 15, 32)       128         conv1d_61[0][0]                  \n",
            "__________________________________________________________________________________________________\n",
            "re_lu_61 (ReLU)                 (None, 15, 32)       0           batch_normalization_61[0][0]     \n",
            "__________________________________________________________________________________________________\n",
            "conv1d_62 (Conv1D)              (None, 15, 32)       3072        re_lu_61[0][0]                   \n",
            "__________________________________________________________________________________________________\n",
            "batch_normalization_62 (BatchNo (None, 15, 32)       128         conv1d_62[0][0]                  \n",
            "__________________________________________________________________________________________________\n",
            "re_lu_62 (ReLU)                 (None, 15, 32)       0           batch_normalization_62[0][0]     \n",
            "__________________________________________________________________________________________________\n",
            "conv1d_60 (Conv1D)              (None, 8, 32)        18432       concatenate_9[0][0]              \n",
            "__________________________________________________________________________________________________\n",
            "conv1d_63 (Conv1D)              (None, 8, 32)        3072        re_lu_62[0][0]                   \n",
            "__________________________________________________________________________________________________\n",
            "batch_normalization_60 (BatchNo (None, 8, 32)        128         conv1d_60[0][0]                  \n",
            "__________________________________________________________________________________________________\n",
            "batch_normalization_63 (BatchNo (None, 8, 32)        128         conv1d_63[0][0]                  \n",
            "__________________________________________________________________________________________________\n",
            "re_lu_60 (ReLU)                 (None, 8, 32)        0           batch_normalization_60[0][0]     \n",
            "__________________________________________________________________________________________________\n",
            "re_lu_63 (ReLU)                 (None, 8, 32)        0           batch_normalization_63[0][0]     \n",
            "__________________________________________________________________________________________________\n",
            "max_pooling1d_3 (MaxPooling1D)  (None, 8, 192)       0           concatenate_9[0][0]              \n",
            "__________________________________________________________________________________________________\n",
            "concatenate_10 (Concatenate)    (None, 8, 256)       0           re_lu_60[0][0]                   \n",
            "                                                                 re_lu_63[0][0]                   \n",
            "                                                                 max_pooling1d_3[0][0]            \n",
            "__________________________________________________________________________________________________\n",
            "conv1d_68 (Conv1D)              (None, 8, 32)        8192        concatenate_10[0][0]             \n",
            "__________________________________________________________________________________________________\n",
            "batch_normalization_68 (BatchNo (None, 8, 32)        128         conv1d_68[0][0]                  \n",
            "__________________________________________________________________________________________________\n",
            "re_lu_68 (ReLU)                 (None, 8, 32)        0           batch_normalization_68[0][0]     \n",
            "__________________________________________________________________________________________________\n",
            "conv1d_69 (Conv1D)              (None, 8, 32)        7168        re_lu_68[0][0]                   \n",
            "__________________________________________________________________________________________________\n",
            "batch_normalization_69 (BatchNo (None, 8, 32)        128         conv1d_69[0][0]                  \n",
            "__________________________________________________________________________________________________\n",
            "re_lu_69 (ReLU)                 (None, 8, 32)        0           batch_normalization_69[0][0]     \n",
            "__________________________________________________________________________________________________\n",
            "conv1d_65 (Conv1D)              (None, 8, 32)        8192        concatenate_10[0][0]             \n",
            "__________________________________________________________________________________________________\n",
            "conv1d_70 (Conv1D)              (None, 8, 32)        1024        re_lu_69[0][0]                   \n",
            "__________________________________________________________________________________________________\n",
            "batch_normalization_65 (BatchNo (None, 8, 32)        128         conv1d_65[0][0]                  \n",
            "__________________________________________________________________________________________________\n",
            "batch_normalization_70 (BatchNo (None, 8, 32)        128         conv1d_70[0][0]                  \n",
            "__________________________________________________________________________________________________\n",
            "re_lu_65 (ReLU)                 (None, 8, 32)        0           batch_normalization_65[0][0]     \n",
            "__________________________________________________________________________________________________\n",
            "re_lu_70 (ReLU)                 (None, 8, 32)        0           batch_normalization_70[0][0]     \n",
            "__________________________________________________________________________________________________\n",
            "conv1d_66 (Conv1D)              (None, 8, 32)        7168        re_lu_65[0][0]                   \n",
            "__________________________________________________________________________________________________\n",
            "conv1d_71 (Conv1D)              (None, 8, 32)        7168        re_lu_70[0][0]                   \n",
            "__________________________________________________________________________________________________\n",
            "batch_normalization_66 (BatchNo (None, 8, 32)        128         conv1d_66[0][0]                  \n",
            "__________________________________________________________________________________________________\n",
            "batch_normalization_71 (BatchNo (None, 8, 32)        128         conv1d_71[0][0]                  \n",
            "__________________________________________________________________________________________________\n",
            "re_lu_66 (ReLU)                 (None, 8, 32)        0           batch_normalization_66[0][0]     \n",
            "__________________________________________________________________________________________________\n",
            "re_lu_71 (ReLU)                 (None, 8, 32)        0           batch_normalization_71[0][0]     \n",
            "__________________________________________________________________________________________________\n",
            "average_pooling1d_6 (AveragePoo (None, 8, 256)       0           concatenate_10[0][0]             \n",
            "__________________________________________________________________________________________________\n",
            "conv1d_64 (Conv1D)              (None, 8, 32)        8192        concatenate_10[0][0]             \n",
            "__________________________________________________________________________________________________\n",
            "conv1d_67 (Conv1D)              (None, 8, 32)        1024        re_lu_66[0][0]                   \n",
            "__________________________________________________________________________________________________\n",
            "conv1d_72 (Conv1D)              (None, 8, 32)        1024        re_lu_71[0][0]                   \n",
            "__________________________________________________________________________________________________\n",
            "conv1d_73 (Conv1D)              (None, 8, 32)        8192        average_pooling1d_6[0][0]        \n",
            "__________________________________________________________________________________________________\n",
            "batch_normalization_64 (BatchNo (None, 8, 32)        128         conv1d_64[0][0]                  \n",
            "__________________________________________________________________________________________________\n",
            "batch_normalization_67 (BatchNo (None, 8, 32)        128         conv1d_67[0][0]                  \n",
            "__________________________________________________________________________________________________\n",
            "batch_normalization_72 (BatchNo (None, 8, 32)        128         conv1d_72[0][0]                  \n",
            "__________________________________________________________________________________________________\n",
            "batch_normalization_73 (BatchNo (None, 8, 32)        128         conv1d_73[0][0]                  \n",
            "__________________________________________________________________________________________________\n",
            "re_lu_64 (ReLU)                 (None, 8, 32)        0           batch_normalization_64[0][0]     \n",
            "__________________________________________________________________________________________________\n",
            "re_lu_67 (ReLU)                 (None, 8, 32)        0           batch_normalization_67[0][0]     \n",
            "__________________________________________________________________________________________________\n",
            "re_lu_72 (ReLU)                 (None, 8, 32)        0           batch_normalization_72[0][0]     \n",
            "__________________________________________________________________________________________________\n",
            "re_lu_73 (ReLU)                 (None, 8, 32)        0           batch_normalization_73[0][0]     \n",
            "__________________________________________________________________________________________________\n",
            "concatenate_11 (Concatenate)    (None, 8, 128)       0           re_lu_64[0][0]                   \n",
            "                                                                 re_lu_67[0][0]                   \n",
            "                                                                 re_lu_72[0][0]                   \n",
            "                                                                 re_lu_73[0][0]                   \n",
            "__________________________________________________________________________________________________\n",
            "conv1d_78 (Conv1D)              (None, 8, 32)        4096        concatenate_11[0][0]             \n",
            "__________________________________________________________________________________________________\n",
            "batch_normalization_78 (BatchNo (None, 8, 32)        128         conv1d_78[0][0]                  \n",
            "__________________________________________________________________________________________________\n",
            "re_lu_78 (ReLU)                 (None, 8, 32)        0           batch_normalization_78[0][0]     \n",
            "__________________________________________________________________________________________________\n",
            "conv1d_79 (Conv1D)              (None, 8, 32)        7168        re_lu_78[0][0]                   \n",
            "__________________________________________________________________________________________________\n",
            "batch_normalization_79 (BatchNo (None, 8, 32)        128         conv1d_79[0][0]                  \n",
            "__________________________________________________________________________________________________\n",
            "re_lu_79 (ReLU)                 (None, 8, 32)        0           batch_normalization_79[0][0]     \n",
            "__________________________________________________________________________________________________\n",
            "conv1d_75 (Conv1D)              (None, 8, 32)        4096        concatenate_11[0][0]             \n",
            "__________________________________________________________________________________________________\n",
            "conv1d_80 (Conv1D)              (None, 8, 32)        1024        re_lu_79[0][0]                   \n",
            "__________________________________________________________________________________________________\n",
            "batch_normalization_75 (BatchNo (None, 8, 32)        128         conv1d_75[0][0]                  \n",
            "__________________________________________________________________________________________________\n",
            "batch_normalization_80 (BatchNo (None, 8, 32)        128         conv1d_80[0][0]                  \n",
            "__________________________________________________________________________________________________\n",
            "re_lu_75 (ReLU)                 (None, 8, 32)        0           batch_normalization_75[0][0]     \n",
            "__________________________________________________________________________________________________\n",
            "re_lu_80 (ReLU)                 (None, 8, 32)        0           batch_normalization_80[0][0]     \n",
            "__________________________________________________________________________________________________\n",
            "conv1d_76 (Conv1D)              (None, 8, 32)        7168        re_lu_75[0][0]                   \n",
            "__________________________________________________________________________________________________\n",
            "conv1d_81 (Conv1D)              (None, 8, 32)        7168        re_lu_80[0][0]                   \n",
            "__________________________________________________________________________________________________\n",
            "batch_normalization_76 (BatchNo (None, 8, 32)        128         conv1d_76[0][0]                  \n",
            "__________________________________________________________________________________________________\n",
            "batch_normalization_81 (BatchNo (None, 8, 32)        128         conv1d_81[0][0]                  \n",
            "__________________________________________________________________________________________________\n",
            "re_lu_76 (ReLU)                 (None, 8, 32)        0           batch_normalization_76[0][0]     \n",
            "__________________________________________________________________________________________________\n",
            "re_lu_81 (ReLU)                 (None, 8, 32)        0           batch_normalization_81[0][0]     \n",
            "__________________________________________________________________________________________________\n",
            "average_pooling1d_7 (AveragePoo (None, 8, 128)       0           concatenate_11[0][0]             \n",
            "__________________________________________________________________________________________________\n",
            "conv1d_74 (Conv1D)              (None, 8, 32)        4096        concatenate_11[0][0]             \n",
            "__________________________________________________________________________________________________\n",
            "conv1d_77 (Conv1D)              (None, 8, 32)        1024        re_lu_76[0][0]                   \n",
            "__________________________________________________________________________________________________\n",
            "conv1d_82 (Conv1D)              (None, 8, 32)        1024        re_lu_81[0][0]                   \n",
            "__________________________________________________________________________________________________\n",
            "conv1d_83 (Conv1D)              (None, 8, 32)        4096        average_pooling1d_7[0][0]        \n",
            "__________________________________________________________________________________________________\n",
            "batch_normalization_74 (BatchNo (None, 8, 32)        128         conv1d_74[0][0]                  \n",
            "__________________________________________________________________________________________________\n",
            "batch_normalization_77 (BatchNo (None, 8, 32)        128         conv1d_77[0][0]                  \n",
            "__________________________________________________________________________________________________\n",
            "batch_normalization_82 (BatchNo (None, 8, 32)        128         conv1d_82[0][0]                  \n",
            "__________________________________________________________________________________________________\n",
            "batch_normalization_83 (BatchNo (None, 8, 32)        128         conv1d_83[0][0]                  \n",
            "__________________________________________________________________________________________________\n",
            "re_lu_74 (ReLU)                 (None, 8, 32)        0           batch_normalization_74[0][0]     \n",
            "__________________________________________________________________________________________________\n",
            "re_lu_77 (ReLU)                 (None, 8, 32)        0           batch_normalization_77[0][0]     \n",
            "__________________________________________________________________________________________________\n",
            "re_lu_82 (ReLU)                 (None, 8, 32)        0           batch_normalization_82[0][0]     \n",
            "__________________________________________________________________________________________________\n",
            "re_lu_83 (ReLU)                 (None, 8, 32)        0           batch_normalization_83[0][0]     \n",
            "__________________________________________________________________________________________________\n",
            "concatenate_12 (Concatenate)    (None, 8, 128)       0           re_lu_74[0][0]                   \n",
            "                                                                 re_lu_77[0][0]                   \n",
            "                                                                 re_lu_82[0][0]                   \n",
            "                                                                 re_lu_83[0][0]                   \n",
            "__________________________________________________________________________________________________\n",
            "bidirectional_3 (Bidirectional) (None, 8, 256)       263168      concatenate_12[0][0]             \n",
            "__________________________________________________________________________________________________\n",
            "bidirectional_4 (Bidirectional) (None, 8, 256)       394240      bidirectional_3[0][0]            \n",
            "__________________________________________________________________________________________________\n",
            "bidirectional_5 (Bidirectional) (None, 8, 128)       164352      bidirectional_4[0][0]            \n",
            "__________________________________________________________________________________________________\n",
            "global_average_pooling1d_1 (Glo (None, 128)          0           bidirectional_5[0][0]            \n",
            "__________________________________________________________________________________________________\n",
            "global_max_pooling1d_1 (GlobalM (None, 128)          0           bidirectional_5[0][0]            \n",
            "__________________________________________________________________________________________________\n",
            "concatenate_13 (Concatenate)    (None, 256)          0           global_average_pooling1d_1[0][0] \n",
            "                                                                 global_max_pooling1d_1[0][0]     \n",
            "__________________________________________________________________________________________________\n",
            "dense_3 (Dense)                 (None, 64)           16448       concatenate_13[0][0]             \n",
            "__________________________________________________________________________________________________\n",
            "dense_4 (Dense)                 (None, 3)            195         dense_3[0][0]                    \n",
            "==================================================================================================\n",
            "Total params: 1,035,651\n",
            "Trainable params: 1,032,963\n",
            "Non-trainable params: 2,688\n",
            "__________________________________________________________________________________________________\n",
            "None\n"
          ],
          "name": "stdout"
        }
      ]
    },
    {
      "cell_type": "code",
      "metadata": {
        "colab": {
          "base_uri": "https://localhost:8080/"
        },
        "id": "QcUrYF9DuWaR",
        "outputId": "e7c72570-420a-4394-e8d5-3294caa03f8a"
      },
      "source": [
        "print(env.shape) # Shape of the Environment"
      ],
      "execution_count": null,
      "outputs": [
        {
          "output_type": "stream",
          "text": [
            "(30, 11)\n"
          ],
          "name": "stdout"
        }
      ]
    },
    {
      "cell_type": "code",
      "metadata": {
        "colab": {
          "base_uri": "https://localhost:8080/"
        },
        "id": "NH0_pdpDy4Fy",
        "outputId": "92c83dc0-89b8-4e1f-d843-4e95e4e529fe"
      },
      "source": [
        "# for i in range(2): # For loop is the number of Episodes you want to train for\n",
        "info_train=dqn.fit(env, nb_steps=1000, nb_max_episode_steps=1000, visualize=False, verbose=2, data=data)"
      ],
      "execution_count": null,
      "outputs": [
        {
          "output_type": "stream",
          "text": [
            "Training for 1000 steps ...\n",
            "start episode ... train.csv at 0\n",
            "Tick: 100/ Portfolio (USD): 984.3167925106804\n",
            "Long: 0/ Short: 3\n",
            "[1, 1, 1, 1, 1, 1, 1, 1, 1, 1, 1, 1, 1, 0, 1, 1, 1, 2, 1, 1, 1, 1, 1, 1, 1, 1, 1, 1, 1, 0, 2, 1, 1, 1, 1, 1, 1, 1, 1, 1, 1, 1, 1, 1, 1, 1, 1, 1, 1, 1, 1, 1, 1, 1, 1, 1, 1, 1, 1, 1, 1, 1, 1, 2, 1, 1, 1, 1, 1, 1, 1, 1, 1, 1, 1, 1, 1, 1, 1, 1, 1, 1, 1, 1, 1, 1, 1, 1, 1, 0, 1, 1, 1, 1, 1, 1, 1, 1, 1, 1]\n",
            "Tick: 200/ Portfolio (USD): 862.347874895598\n",
            "Long: 0/ Short: 7\n",
            "[1, 1, 1, 1, 1, 1, 1, 1, 1, 1, 1, 1, 1, 1, 1, 2, 1, 1, 1, 1, 1, 1, 1, 1, 1, 1, 1, 1, 1, 1, 1, 1, 1, 1, 1, 1, 1, 1, 1, 1, 1, 1, 2, 1, 1, 1, 1, 1, 1, 1, 1, 1, 1, 1, 1, 1, 1, 2, 1, 1, 1, 1, 1, 1, 0, 1, 1, 1, 0, 1, 1, 1, 1, 1, 1, 1, 1, 1, 0, 1, 1, 1, 1, 1, 1, 1, 1, 1, 1, 1, 1, 1, 0, 1, 1, 1, 1, 1, 1, 1]\n",
            "Tick: 300/ Portfolio (USD): 787.9453674043532\n",
            "Long: 0/ Short: 9\n",
            "[1, 1, 1, 1, 1, 1, 1, 1, 1, 1, 1, 1, 1, 1, 1, 0, 1, 1, 1, 1, 1, 1, 2, 1, 1, 1, 1, 1, 1, 1, 1, 1, 2, 1, 1, 1, 2, 1, 1, 1, 1, 1, 1, 1, 1, 2, 2, 1, 1, 1, 2, 2, 2, 2, 2, 2, 2, 2, 1, 1, 1, 1, 1, 1, 1, 1, 1, 1, 1, 1, 1, 1, 1, 1, 1, 1, 1, 1, 1, 1, 1, 1, 1, 1, 1, 2, 2, 1, 1, 1, 1, 1, 1, 1, 1, 0, 1, 1, 1, 2]\n",
            "Tick: 400/ Portfolio (USD): 831.3312011444979\n",
            "Long: 2/ Short: 12\n",
            "[2, 2, 0, 2, 2, 2, 2, 2, 1, 1, 1, 1, 1, 1, 1, 1, 1, 1, 1, 1, 1, 1, 2, 2, 2, 2, 2, 1, 1, 1, 1, 1, 1, 1, 1, 1, 1, 1, 1, 2, 1, 1, 1, 1, 1, 1, 1, 1, 1, 1, 1, 1, 1, 1, 1, 1, 1, 1, 1, 1, 1, 1, 1, 1, 1, 1, 1, 1, 0, 1, 1, 1, 0, 0, 0, 1, 0, 0, 0, 0, 0, 0, 0, 1, 0, 0, 0, 0, 0, 0, 0, 0, 0, 0, 0, 0, 0, 0, 0, 0]\n",
            "Tick: 500/ Portfolio (USD): 863.0242484223722\n",
            "Long: 8/ Short: 13\n",
            "[0, 0, 0, 0, 2, 0, 0, 0, 1, 0, 0, 0, 1, 0, 0, 0, 0, 0, 0, 0, 1, 0, 0, 0, 0, 1, 0, 0, 0, 0, 0, 0, 0, 0, 0, 0, 0, 0, 0, 0, 0, 0, 0, 0, 0, 0, 0, 0, 0, 0, 0, 0, 0, 0, 0, 1, 1, 0, 0, 0, 0, 0, 2, 0, 0, 1, 0, 0, 0, 0, 0, 0, 0, 0, 0, 0, 0, 0, 0, 0, 0, 0, 0, 0, 0, 0, 0, 0, 0, 0, 0, 0, 0, 0, 0, 0, 0, 0, 0, 0]\n",
            "Tick: 600/ Portfolio (USD): 757.6898387950076\n",
            "Long: 11/ Short: 13\n",
            "[0, 0, 0, 0, 0, 0, 0, 0, 1, 0, 0, 0, 0, 0, 0, 0, 0, 2, 0, 0, 0, 0, 0, 0, 0, 0, 0, 0, 0, 0, 0, 0, 0, 0, 0, 0, 0, 0, 0, 0, 0, 0, 0, 0, 0, 0, 0, 0, 0, 0, 0, 0, 0, 0, 0, 0, 0, 0, 0, 0, 0, 0, 0, 0, 0, 0, 0, 0, 1, 0, 0, 0, 0, 0, 0, 0, 0, 0, 0, 0, 0, 1, 0, 0, 0, 0, 0, 0, 0, 0, 0, 0, 0, 0, 0, 0, 0, 0, 0, 0]\n",
            "Tick: 700/ Portfolio (USD): 668.4083493542803\n",
            "Long: 13/ Short: 13\n",
            "[0, 0, 0, 0, 0, 0, 2, 0, 0, 0, 0, 0, 0, 0, 0, 0, 0, 0, 0, 0, 0, 0, 0, 0, 0, 0, 0, 0, 0, 0, 0, 0, 0, 0, 0, 0, 0, 0, 0, 0, 0, 0, 0, 0, 0, 0, 0, 0, 1, 0, 0, 0, 0, 0, 0, 0, 0, 0, 0, 0, 0, 0, 0, 0, 0, 0, 0, 2, 2, 0, 0, 0, 0, 0, 0, 0, 0, 0, 0, 0, 0, 0, 0, 0, 0, 0, 0, 0, 0, 1, 0, 0, 0, 0, 0, 0, 0, 0, 0, 0]\n",
            "Tick: 800/ Portfolio (USD): 727.1269115755302\n",
            "Long: 14/ Short: 13\n",
            "[0, 0, 0, 0, 0, 0, 0, 0, 0, 0, 0, 0, 0, 0, 0, 0, 0, 0, 0, 0, 0, 0, 0, 0, 0, 0, 0, 0, 0, 0, 0, 0, 0, 0, 0, 0, 0, 0, 0, 0, 0, 0, 0, 2, 0, 0, 2, 0, 0, 0, 0, 0, 0, 0, 0, 0, 0, 0, 0, 0, 0, 2, 0, 0, 0, 0, 0, 1, 0, 0, 0, 0, 0, 0, 0, 0, 0, 0, 0, 0, 0, 0, 0, 0, 0, 0, 0, 0, 0, 0, 0, 0, 0, 0, 0, 0, 0, 0, 0, 0]\n",
            "Tick: 900/ Portfolio (USD): 759.8748598622352\n",
            "Long: 17/ Short: 13\n",
            "[0, 0, 0, 0, 0, 0, 0, 0, 0, 0, 0, 0, 0, 0, 0, 0, 0, 0, 0, 0, 0, 0, 0, 0, 0, 0, 0, 1, 0, 2, 0, 0, 0, 0, 0, 0, 0, 0, 1, 0, 0, 0, 0, 0, 0, 0, 0, 0, 0, 1, 0, 0, 0, 0, 0, 0, 0, 0, 2, 0, 0, 0, 0, 0, 0, 0, 0, 0, 0, 0, 0, 0, 0, 0, 0, 0, 0, 0, 0, 0, 0, 0, 0, 0, 0, 0, 0, 2, 0, 0, 2, 0, 0, 0, 0, 0, 0, 0, 0, 0]\n",
            "Tick: 1000/ Portfolio (USD): 720.6676480911299\n",
            "Long: 22/ Short: 13\n",
            "[0, 0, 0, 0, 0, 0, 0, 0, 0, 0, 0, 0, 0, 0, 0, 0, 0, 0, 0, 0, 0, 0, 0, 0, 0, 2, 1, 0, 0, 0, 0, 0, 0, 0, 0, 0, 0, 0, 0, 0, 0, 0, 0, 0, 0, 0, 0, 2, 1, 0, 0, 0, 2, 0, 0, 0, 0, 0, 0, 0, 0, 2, 0, 0, 0, 0, 0, 0, 0, 0, 0, 0, 0, 0, 0, 0, 0, 0, 0, 0, 0, 1, 0, 1, 0, 0, 1, 0, 0, 0, 0, 0, 0, 2, 2, 0, 0, 0, 0, 0]\n",
            " 1000/1000: episode: 1, duration: 340.603s, episode steps: 1000, steps per second:   3, episode reward:    nan, mean reward:    nan [   nan,    nan], mean action: 0.457 [0.000, 2.000],  loss: 0.035395, mae: 1.478195, mean_q: 2.470576\n",
            "done, took 340.610 seconds\n"
          ],
          "name": "stdout"
        }
      ]
    },
    {
      "cell_type": "code",
      "metadata": {
        "id": "bBC8fUmYDVDj"
      },
      "source": [
        "# Saves the List of Trade Class Objects to Calculate Extra Metrics\n",
        "\n",
        "trades=np.array(info_train[\"trades\"])\n",
        "np.savez(\"tradesFile\",trades)"
      ],
      "execution_count": null,
      "outputs": []
    },
    {
      "cell_type": "code",
      "metadata": {
        "id": "d45PQ8O8jjiK"
      },
      "source": [
        "# Mulitply Profit Values by 100*5 to consider each movement of 0.01 as 5$\n",
        "\n",
        "text=[]\n",
        "for c in info_train[\"profits\"]:\n",
        "  text.append(c*100*5)"
      ],
      "execution_count": null,
      "outputs": []
    },
    {
      "cell_type": "code",
      "metadata": {
        "colab": {
          "base_uri": "https://localhost:8080/"
        },
        "id": "WCfA3AliPC_o",
        "outputId": "1e158c96-af7a-4d62-b8cf-ab6d91cf55b3"
      },
      "source": [
        "text"
      ],
      "execution_count": null,
      "outputs": [
        {
          "output_type": "execute_result",
          "data": {
            "text/plain": [
              "[12.000000000014666,\n",
              " 1.4999999999929514,\n",
              " 6.500000000002615,\n",
              " -2.0000000000095497,\n",
              " -2.0000000000095497,\n",
              " -1.0000000000047748,\n",
              " 40.99999999999682,\n",
              " 33.00000000000125,\n",
              " -1.5000000000071623,\n",
              " 7.000000000005002,\n",
              " -16.999999999995907,\n",
              " 10.99999999999568,\n",
              " -13.999999999995794,\n",
              " -16.49999999999352,\n",
              " 3.0000000000001137,\n",
              " 11.499999999998067,\n",
              " -2.4999999999977263,\n",
              " 2.0000000000095497,\n",
              " 15.999999999991132,\n",
              " -0.5000000000023874,\n",
              " 13.999999999995794,\n",
              " -4.500000000007276,\n",
              " -49.49999999999477,\n",
              " -79.50000000001012,\n",
              " 79.00000000000773,\n",
              " -18.49999999998886,\n",
              " -42.00000000000159,\n",
              " 43.99999999999693,\n",
              " 16.000000000005343,\n",
              " 9.499999999988518,\n",
              " -3.0000000000001137,\n",
              " -38.99999999998727,\n",
              " -70.49999999999557,\n",
              " 89.9999999999892,\n",
              " -16.49999999999352,\n",
              " 24.500000000003297,\n",
              " -36.49999999998954,\n",
              " -24.999999999991473,\n",
              " -10.99999999999568,\n",
              " 24.00000000001512,\n",
              " -13.999999999995794,\n",
              " 0.5000000000023874,\n",
              " 15.000000000000568,\n",
              " -17.000000000010118,\n",
              " 10.99999999999568,\n",
              " -20.999999999986585,\n",
              " -7.50000000000739,\n",
              " -15.000000000000568,\n",
              " 23.499999999998522,\n",
              " -9.999999999990905,\n",
              " 3.0000000000001137,\n",
              " 26.500000000012847,\n",
              " -23.499999999998522,\n",
              " 6.500000000016826,\n",
              " -168.00000000000637,\n",
              " -12.999999999991019,\n",
              " 0.5000000000023874,\n",
              " -7.499999999993179,\n",
              " -9.500000000002728,\n",
              " -25.000000000005684,\n",
              " 54.000000000002046,\n",
              " 3.500000000002501,\n",
              " -179.9999999999926,\n",
              " -5.49999999999784,\n",
              " -10.99999999999568,\n",
              " -23.9999999999867,\n",
              " -11.500000000012278]"
            ]
          },
          "metadata": {
            "tags": []
          },
          "execution_count": 20
        }
      ]
    },
    {
      "cell_type": "code",
      "metadata": {
        "colab": {
          "base_uri": "https://localhost:8080/",
          "height": 714
        },
        "id": "ldwQN6Ai-h2u",
        "outputId": "7acee1d4-2ee0-40da-8ef7-5f261966db74"
      },
      "source": [
        "# Print Metrics for Training Data\n",
        "\n",
        "start_index=TIME_STEP\n",
        "end_index=len(info_train[\"history\"])\n",
        "\n",
        "values=[]\n",
        "for i in range(len(info_train[\"history\"])):\n",
        "  values.append(info_train[\"history\"][i][5])\n",
        "\n",
        "qs.extend_pandas()\n",
        "\n",
        "end_index=len(values)\n",
        "\n",
        "net_worth = pd.Series(values, index=data.index[start_index+1:end_index+TIME_STEP+1])\n",
        "# returns = net_worth.pct_change().iloc[1:]\n",
        "returns=net_worth\n",
        "returns=returns.fillna(0)\n",
        "# lot_size=100000\n",
        "lot_size=1\n",
        "pip=(100*5)*lot_size\n",
        "# pip=1\n",
        "returns=returns\n",
        "\n",
        "total_profit=(returns.sum())*pip\n",
        "avg_profit=returns.avg_win()*pip\n",
        "profit_factor=returns.profit_factor()\n",
        "r_squared=returns.r_squared(data['close'])\n",
        "sharpe_ratio=returns.sharpe()\n",
        "sortino_ratio=returns.sortino()\n",
        "if((data.index[end_index-1]-data.index[start_index+1]).days<1):\n",
        "  avg_trades_per_day=len(returns[returns!=0])\n",
        "else:\n",
        "  avg_trades_per_day=len(returns[returns!=0])/(data.index[end_index-1]-data.index[start_index+1]).days\n",
        "drawdown=returns.max_drawdown()*100\n",
        "largest_loss=min(returns)*pip\n",
        "largest_win=max(returns)*pip\n",
        "months=(data.index[end_index-1]-data.index[start_index+1]).days//30\n",
        "if((data.index[end_index-1]-data.index[start_index+1]).days%30 != 0):\n",
        "  months+=1\n",
        "if((data.index[end_index-1]-data.index[start_index+1]).days/30 == 0):\n",
        "  months+=1\n",
        "profit_per_month=((returns[returns>0].sum()+returns[returns<0].sum())/(months))*pip\n",
        "# winning_trades=(len(returns[returns>0])/len(returns[returns<0]))*100\n",
        "winning_trades=len(returns[returns>0])\n",
        "losing_trades=len(returns[returns<0])\n",
        "\n",
        "print(\"---------------------REQUIRED METRICS--------------------\")\n",
        "\n",
        "# print(\"METRIC: AVERAGE NUMBER OF TRADES PER DAY    TARGET: 200.0\")\n",
        "print(\"MODEL NAME: BiDirectional LSTM\")\n",
        "print(\"NUMBER OF STEPS: \", len(values))\n",
        "print(\"START DATE: \",data.index[start_index])\n",
        "print(\"END DATE: \",data.index[end_index+TIME_STEP])\n",
        "print()\n",
        "print(\"TOTAL PROFIT: \",total_profit)\n",
        "print(\"AVERAGE PROFIT: \",avg_profit)\n",
        "print(\"PROFIT FACTOR: \",profit_factor)\n",
        "print(\"R SQAURED: \",r_squared*100)\n",
        "print(\"SHARPE RATIO: \",sharpe_ratio)\n",
        "print(\"SORTINO RATIO: \",sortino_ratio)\n",
        "print(\"AVGERAGE NUMBER OF TRADES PER DAY: \",avg_trades_per_day)\n",
        "print(\"DRAWDOWN: \",drawdown)\n",
        "print(\"LARGEST LOSS: \",largest_loss)\n",
        "print(\"LARGEST WIN: \",largest_win)\n",
        "print(\"PROFIT PER MONTH: \",profit_per_month)\n",
        "print(\"WINNING TRADES: \", winning_trades)\n",
        "print(\"LOSING TRADES: \",losing_trades)\n",
        "print()\n",
        "\n",
        "# x=50\n",
        "qs.reports.full(returns)"
      ],
      "execution_count": null,
      "outputs": [
        {
          "output_type": "stream",
          "text": [
            "---------------------REQUIRED METRICS--------------------\n",
            "MODEL NAME: BiDirectional LSTM\n",
            "NUMBER OF STEPS:  500\n",
            "START DATE:  2015-10-20 21:31:00\n",
            "END DATE:  2015-10-21 06:37:00\n",
            "\n",
            "TOTAL PROFIT:  134.00000000001455\n",
            "AVERAGE PROFIT:  22.722222222223348\n",
            "PROFIT FACTOR:  2.900709219858482\n",
            "R SQAURED:  1.1071115300104277\n",
            "SHARPE RATIO:  0.9555717551290825\n",
            "SORTINO RATIO:  2.1068716511710597\n",
            "AVGERAGE NUMBER OF TRADES PER DAY:  14\n",
            "DRAWDOWN:  -9.11089999999849\n",
            "LARGEST LOSS:  -40.49999999999443\n",
            "LARGEST WIN:  61.500000000009436\n",
            "PROFIT PER MONTH:  134.00000000001455\n",
            "WINNING TRADES:  9\n",
            "LOSING TRADES:  5\n",
            "\n",
            "[Performance Metrics]\n",
            "\n"
          ],
          "name": "stdout"
        },
        {
          "output_type": "error",
          "ename": "ZeroDivisionError",
          "evalue": "ignored",
          "traceback": [
            "\u001b[0;31m---------------------------------------------------------------------------\u001b[0m",
            "\u001b[0;31mZeroDivisionError\u001b[0m                         Traceback (most recent call last)",
            "\u001b[0;32m<ipython-input-10-fd06a0cb0444>\u001b[0m in \u001b[0;36m<module>\u001b[0;34m()\u001b[0m\n\u001b[1;32m     67\u001b[0m \u001b[0;34m\u001b[0m\u001b[0m\n\u001b[1;32m     68\u001b[0m \u001b[0;31m# x=50\u001b[0m\u001b[0;34m\u001b[0m\u001b[0;34m\u001b[0m\u001b[0;34m\u001b[0m\u001b[0m\n\u001b[0;32m---> 69\u001b[0;31m \u001b[0mqs\u001b[0m\u001b[0;34m.\u001b[0m\u001b[0mreports\u001b[0m\u001b[0;34m.\u001b[0m\u001b[0mfull\u001b[0m\u001b[0;34m(\u001b[0m\u001b[0mreturns\u001b[0m\u001b[0;34m)\u001b[0m\u001b[0;34m\u001b[0m\u001b[0;34m\u001b[0m\u001b[0m\n\u001b[0m",
            "\u001b[0;32m/usr/local/lib/python3.7/dist-packages/quantstats/reports.py\u001b[0m in \u001b[0;36mfull\u001b[0;34m(returns, benchmark, rf, grayscale, figsize, display, compounded, trading_year_days)\u001b[0m\n\u001b[1;32m    250\u001b[0m         metrics(returns=returns, benchmark=benchmark,\n\u001b[1;32m    251\u001b[0m                 \u001b[0mrf\u001b[0m\u001b[0;34m=\u001b[0m\u001b[0mrf\u001b[0m\u001b[0;34m,\u001b[0m \u001b[0mdisplay\u001b[0m\u001b[0;34m=\u001b[0m\u001b[0mdisplay\u001b[0m\u001b[0;34m,\u001b[0m \u001b[0mmode\u001b[0m\u001b[0;34m=\u001b[0m\u001b[0;34m'full'\u001b[0m\u001b[0;34m,\u001b[0m\u001b[0;34m\u001b[0m\u001b[0;34m\u001b[0m\u001b[0m\n\u001b[0;32m--> 252\u001b[0;31m                 compounded=compounded)\n\u001b[0m\u001b[1;32m    253\u001b[0m         \u001b[0mprint\u001b[0m\u001b[0;34m(\u001b[0m\u001b[0;34m'\\n\\n'\u001b[0m\u001b[0;34m)\u001b[0m\u001b[0;34m\u001b[0m\u001b[0;34m\u001b[0m\u001b[0m\n\u001b[1;32m    254\u001b[0m         \u001b[0mprint\u001b[0m\u001b[0;34m(\u001b[0m\u001b[0;34m'[5 Worst Drawdowns]\\n'\u001b[0m\u001b[0;34m)\u001b[0m\u001b[0;34m\u001b[0m\u001b[0;34m\u001b[0m\u001b[0m\n",
            "\u001b[0;32m/usr/local/lib/python3.7/dist-packages/quantstats/reports.py\u001b[0m in \u001b[0;36mmetrics\u001b[0;34m(returns, benchmark, rf, display, mode, sep, compounded, trading_year_days, **kwargs)\u001b[0m\n\u001b[1;32m    351\u001b[0m         \u001b[0mmetrics\u001b[0m\u001b[0;34m[\u001b[0m\u001b[0;34m'Total Return %'\u001b[0m\u001b[0;34m]\u001b[0m \u001b[0;34m=\u001b[0m \u001b[0;34m(\u001b[0m\u001b[0mdf\u001b[0m\u001b[0;34m.\u001b[0m\u001b[0msum\u001b[0m\u001b[0;34m(\u001b[0m\u001b[0;34m)\u001b[0m \u001b[0;34m*\u001b[0m \u001b[0mpct\u001b[0m\u001b[0;34m)\u001b[0m\u001b[0;34m.\u001b[0m\u001b[0mmap\u001b[0m\u001b[0;34m(\u001b[0m\u001b[0;34m'{:,.2f}'\u001b[0m\u001b[0;34m.\u001b[0m\u001b[0mformat\u001b[0m\u001b[0;34m)\u001b[0m\u001b[0;34m\u001b[0m\u001b[0;34m\u001b[0m\u001b[0m\n\u001b[1;32m    352\u001b[0m \u001b[0;34m\u001b[0m\u001b[0m\n\u001b[0;32m--> 353\u001b[0;31m     \u001b[0mmetrics\u001b[0m\u001b[0;34m[\u001b[0m\u001b[0;34m'CAGR%%'\u001b[0m\u001b[0;34m]\u001b[0m \u001b[0;34m=\u001b[0m \u001b[0m_stats\u001b[0m\u001b[0;34m.\u001b[0m\u001b[0mcagr\u001b[0m\u001b[0;34m(\u001b[0m\u001b[0mdf\u001b[0m\u001b[0;34m,\u001b[0m \u001b[0mrf\u001b[0m\u001b[0;34m,\u001b[0m \u001b[0mcompounded\u001b[0m\u001b[0;34m)\u001b[0m \u001b[0;34m*\u001b[0m \u001b[0mpct\u001b[0m\u001b[0;34m\u001b[0m\u001b[0;34m\u001b[0m\u001b[0m\n\u001b[0m\u001b[1;32m    354\u001b[0m \u001b[0;34m\u001b[0m\u001b[0m\n\u001b[1;32m    355\u001b[0m     \u001b[0mmetrics\u001b[0m\u001b[0;34m[\u001b[0m\u001b[0;34m'~~~~~~~~~~~~~~'\u001b[0m\u001b[0;34m]\u001b[0m \u001b[0;34m=\u001b[0m \u001b[0mblank\u001b[0m\u001b[0;34m\u001b[0m\u001b[0;34m\u001b[0m\u001b[0m\n",
            "\u001b[0;32m/usr/local/lib/python3.7/dist-packages/quantstats/stats.py\u001b[0m in \u001b[0;36mcagr\u001b[0;34m(returns, rf, compounded)\u001b[0m\n\u001b[1;32m    288\u001b[0m     \u001b[0myears\u001b[0m \u001b[0;34m=\u001b[0m \u001b[0;34m(\u001b[0m\u001b[0mreturns\u001b[0m\u001b[0;34m.\u001b[0m\u001b[0mindex\u001b[0m\u001b[0;34m[\u001b[0m\u001b[0;34m-\u001b[0m\u001b[0;36m1\u001b[0m\u001b[0;34m]\u001b[0m \u001b[0;34m-\u001b[0m \u001b[0mreturns\u001b[0m\u001b[0;34m.\u001b[0m\u001b[0mindex\u001b[0m\u001b[0;34m[\u001b[0m\u001b[0;36m0\u001b[0m\u001b[0;34m]\u001b[0m\u001b[0;34m)\u001b[0m\u001b[0;34m.\u001b[0m\u001b[0mdays\u001b[0m \u001b[0;34m/\u001b[0m \u001b[0;36m365.\u001b[0m\u001b[0;34m\u001b[0m\u001b[0;34m\u001b[0m\u001b[0m\n\u001b[1;32m    289\u001b[0m \u001b[0;34m\u001b[0m\u001b[0m\n\u001b[0;32m--> 290\u001b[0;31m     \u001b[0mres\u001b[0m \u001b[0;34m=\u001b[0m \u001b[0mabs\u001b[0m\u001b[0;34m(\u001b[0m\u001b[0mtotal\u001b[0m \u001b[0;34m+\u001b[0m \u001b[0;36m1.0\u001b[0m\u001b[0;34m)\u001b[0m \u001b[0;34m**\u001b[0m \u001b[0;34m(\u001b[0m\u001b[0;36m1.0\u001b[0m \u001b[0;34m/\u001b[0m \u001b[0myears\u001b[0m\u001b[0;34m)\u001b[0m \u001b[0;34m-\u001b[0m \u001b[0;36m1\u001b[0m\u001b[0;34m\u001b[0m\u001b[0;34m\u001b[0m\u001b[0m\n\u001b[0m\u001b[1;32m    291\u001b[0m \u001b[0;34m\u001b[0m\u001b[0m\n\u001b[1;32m    292\u001b[0m     \u001b[0;32mif\u001b[0m \u001b[0misinstance\u001b[0m\u001b[0;34m(\u001b[0m\u001b[0mreturns\u001b[0m\u001b[0;34m,\u001b[0m \u001b[0m_pd\u001b[0m\u001b[0;34m.\u001b[0m\u001b[0mDataFrame\u001b[0m\u001b[0;34m)\u001b[0m\u001b[0;34m:\u001b[0m\u001b[0;34m\u001b[0m\u001b[0;34m\u001b[0m\u001b[0m\n",
            "\u001b[0;31mZeroDivisionError\u001b[0m: float division by zero"
          ]
        }
      ]
    },
    {
      "cell_type": "code",
      "metadata": {
        "id": "r_Z536onRdfZ"
      },
      "source": [
        "# Save the Model\n",
        "model.save(\"sample_model.h5\")"
      ],
      "execution_count": null,
      "outputs": []
    },
    {
      "cell_type": "code",
      "metadata": {
        "colab": {
          "base_uri": "https://localhost:8080/"
        },
        "id": "p5rteNUhLF4B",
        "outputId": "4863c4af-d36e-4e98-970b-611364d8de65"
      },
      "source": [
        "# Test the model Performance\n",
        "info = dqn.test(env, nb_episodes=1, visualize=True, nb_max_episode_steps=3900, data=data)"
      ],
      "execution_count": null,
      "outputs": [
        {
          "output_type": "stream",
          "text": [
            "YYYYYYYYYYYYYYYYYY 0.1 2\n",
            "Testing for 1 episodes ...\n",
            "start episode ... train.csv at 0\n",
            "Tick: 100/ Portfolio (USD): 999.3456476544627\n",
            "Long: 0/ Short: 0\n",
            "[0, 0, 0, 0, 0, 0, 0, 0, 0, 0, 0, 0, 0, 0, 0, 0, 0, 0, 0, 0, 0, 0, 0, 0, 0, 0, 0, 0, 0, 0, 0, 0, 0, 0, 0, 0, 0, 0, 0, 0, 0, 0, 0, 0, 0, 0, 0, 0, 0, 0, 0, 0, 0, 0, 0, 0, 0, 0, 0, 0, 0, 0, 0, 0, 0, 0, 0, 0, 0, 0, 0, 0, 0, 0, 0, 0, 0, 0, 0, 0, 0, 0, 0, 0, 0, 0, 0, 0, 0, 0, 0, 0, 0, 0, 0, 0, 0, 0, 0, 0]\n",
            "Tick: 200/ Portfolio (USD): 1000.3818406178508\n",
            "Long: 0/ Short: 0\n",
            "[0, 0, 0, 0, 0, 0, 0, 0, 0, 0, 0, 0, 0, 0, 0, 0, 0, 0, 0, 0, 0, 0, 0, 0, 0, 0, 0, 0, 0, 0, 0, 0, 0, 0, 0, 0, 0, 0, 0, 0, 0, 0, 0, 0, 0, 0, 0, 0, 0, 0, 0, 0, 0, 0, 0, 0, 0, 0, 0, 0, 0, 0, 0, 0, 0, 0, 0, 0, 0, 0, 0, 0, 0, 0, 0, 0, 0, 0, 0, 0, 0, 0, 0, 0, 0, 0, 0, 0, 0, 0, 0, 0, 0, 0, 0, 0, 0, 0, 0, 0]\n",
            "Tick: 300/ Portfolio (USD): 1001.1608225619584\n",
            "Long: 0/ Short: 0\n",
            "[0, 0, 0, 0, 0, 0, 0, 0, 0, 0, 0, 0, 0, 0, 0, 0, 0, 0, 0, 0, 0, 0, 0, 0, 0, 0, 0, 0, 0, 0, 0, 0, 0, 0, 0, 0, 0, 0, 0, 0, 0, 0, 0, 0, 0, 0, 0, 0, 0, 0, 0, 0, 0, 0, 0, 0, 0, 0, 0, 0, 0, 0, 0, 0, 0, 0, 0, 0, 0, 0, 0, 0, 0, 0, 0, 0, 0, 0, 0, 0, 0, 0, 0, 0, 0, 0, 0, 0, 0, 0, 0, 0, 0, 0, 0, 0, 0, 0, 0, 0]\n",
            "Tick: 400/ Portfolio (USD): 1000.8815648838818\n",
            "Long: 0/ Short: 0\n",
            "[0, 0, 0, 0, 0, 0, 0, 0, 0, 0, 0, 0, 0, 0, 0, 0, 0, 0, 0, 0, 0, 0, 0, 0, 0, 0, 0, 0, 0, 0, 0, 0, 0, 0, 0, 0, 0, 0, 0, 0, 0, 0, 0, 0, 0, 0, 0, 0, 0, 0, 0, 0, 0, 0, 0, 0, 0, 0, 0, 0, 0, 0, 0, 0, 0, 0, 0, 0, 0, 0, 0, 0, 0, 0, 0, 0, 0, 0, 0, 0, 0, 0, 0, 0, 0, 0, 0, 0, 0, 0, 0, 0, 0, 0, 0, 0, 0, 0, 0, 0]\n",
            "Tick: 500/ Portfolio (USD): 1000.7786804761698\n",
            "Long: 0/ Short: 0\n",
            "[0, 0, 0, 0, 0, 0, 0, 0, 0, 0, 0, 0, 0, 0, 0, 0, 0, 0, 0, 0, 0, 0, 0, 0, 0, 0, 0, 0, 0, 0, 0, 0, 0, 0, 0, 0, 0, 0, 0, 0, 0, 0, 0, 0, 0, 0, 0, 0, 0, 0, 0, 0, 0, 0, 0, 0, 0, 0, 0, 0, 0, 0, 0, 0, 0, 0, 0, 0, 0, 0, 0, 0, 0, 0, 0, 0, 0, 0, 0, 0, 0, 0, 0, 0, 0, 0, 0, 0, 0, 0, 0, 0, 0, 0, 0, 0, 0, 0, 0, 0]\n",
            "Tick: 600/ Portfolio (USD): 1001.3592424911172\n",
            "Long: 0/ Short: 0\n",
            "[0, 0, 0, 0, 0, 0, 0, 0, 0, 0, 0, 0, 0, 0, 0, 0, 0, 0, 0, 0, 0, 0, 0, 0, 0, 0, 0, 0, 0, 0, 0, 0, 0, 0, 0, 0, 0, 0, 0, 0, 0, 0, 0, 0, 0, 0, 0, 0, 0, 0, 0, 0, 0, 0, 0, 0, 0, 0, 0, 0, 0, 0, 0, 0, 0, 0, 0, 0, 0, 0, 0, 0, 0, 0, 0, 0, 0, 0, 0, 0, 0, 0, 0, 0, 0, 0, 0, 0, 0, 0, 0, 0, 0, 0, 0, 0, 0, 0, 0, 0]\n",
            "Tick: 700/ Portfolio (USD): 1000.4847250255631\n",
            "Long: 0/ Short: 0\n",
            "[0, 0, 0, 0, 0, 0, 0, 0, 0, 0, 0, 0, 0, 0, 0, 0, 0, 0, 0, 0, 0, 0, 0, 0, 0, 0, 0, 0, 0, 0, 0, 0, 0, 0, 0, 0, 0, 0, 0, 0, 0, 0, 0, 0, 0, 0, 0, 0, 0, 0, 0, 0, 0, 0, 0, 0, 0, 0, 0, 0, 0, 0, 0, 0, 0, 0, 0, 0, 0, 0, 0, 0, 0, 0, 0, 0, 0, 0, 0, 0, 0, 0, 0, 0, 0, 0, 0, 0, 0, 0, 0, 0, 0, 0, 0, 0, 0, 0, 0, 0]\n",
            "Tick: 800/ Portfolio (USD): 1001.0285426091854\n",
            "Long: 0/ Short: 0\n",
            "[0, 0, 0, 0, 0, 0, 0, 0, 0, 0, 0, 0, 0, 0, 0, 0, 0, 0, 0, 0, 0, 0, 0, 0, 0, 0, 0, 0, 0, 0, 0, 0, 0, 0, 0, 0, 0, 0, 0, 0, 0, 0, 0, 0, 0, 0, 0, 0, 0, 0, 0, 0, 0, 0, 0, 0, 0, 0, 0, 0, 0, 0, 0, 0, 0, 0, 0, 0, 0, 0, 0, 0, 0, 0, 0, 0, 0, 0, 0, 0, 0, 0, 0, 0, 0, 0, 0, 0, 0, 0, 0, 0, 0, 0, 0, 0, 0, 0, 0, 0]\n",
            "Tick: 900/ Portfolio (USD): 1000.8154249074954\n",
            "Long: 0/ Short: 0\n",
            "[0, 0, 0, 0, 0, 0, 0, 0, 0, 0, 0, 0, 0, 0, 0, 0, 0, 0, 0, 0, 0, 0, 0, 0, 0, 0, 0, 0, 0, 0, 0, 0, 0, 0, 0, 0, 0, 0, 0, 0, 0, 0, 0, 0, 0, 0, 0, 0, 0, 0, 0, 0, 0, 0, 0, 0, 0, 0, 0, 0, 0, 0, 0, 0, 0, 0, 0, 0, 0, 0, 0, 0, 0, 0, 0, 0, 0, 0, 0, 0, 0, 0, 0, 0, 0, 0, 0, 0, 0, 0, 0, 0, 0, 0, 0, 0, 0, 0, 0, 0]\n",
            "Tick: 1000/ Portfolio (USD): 1000.3377473002599\n",
            "Long: 0/ Short: 0\n",
            "[0, 0, 0, 0, 0, 0, 0, 0, 0, 0, 0, 0, 0, 0, 0, 0, 0, 0, 0, 0, 0, 0, 0, 0, 0, 0, 0, 0, 0, 0, 0, 0, 0, 0, 0, 0, 0, 0, 0, 0, 0, 0, 0, 0, 0, 0, 0, 0, 0, 0, 0, 0, 0, 0, 0, 0, 0, 0, 0, 0, 0, 0, 0, 0, 0, 0, 0, 0, 0, 0, 0, 0, 0, 0, 0, 0, 0, 0, 0, 0, 0, 0, 0, 0, 0, 0, 0, 0, 0, 0, 0, 0, 0, 0, 0, 0, 0, 0, 0, 0]\n",
            "Tick: 1100/ Portfolio (USD): 1000.1760718024262\n",
            "Long: 0/ Short: 0\n",
            "[0, 0, 0, 0, 0, 0, 0, 0, 0, 0, 0, 0, 0, 0, 0, 0, 0, 0, 0, 0, 0, 0, 0, 0, 0, 0, 0, 0, 0, 0, 0, 0, 0, 0, 0, 0, 0, 0, 0, 0, 0, 0, 0, 0, 0, 0, 0, 0, 0, 0, 0, 0, 0, 0, 0, 0, 0, 0, 0, 0, 0, 0, 0, 0, 0, 0, 0, 0, 0, 0, 0, 0, 0, 0, 0, 0, 0, 0, 0, 0, 0, 0, 0, 0, 0, 0, 0, 0, 0, 0, 0, 0, 0, 0, 0, 0, 0, 0, 0, 0]\n",
            "Tick: 1200/ Portfolio (USD): 999.4705787209705\n",
            "Long: 0/ Short: 0\n",
            "[0, 0, 0, 0, 0, 0, 0, 0, 0, 0, 0, 0, 0, 0, 0, 0, 0, 0, 0, 0, 0, 0, 0, 0, 0, 0, 0, 0, 0, 0, 0, 0, 0, 0, 0, 0, 0, 0, 0, 0, 0, 0, 0, 0, 0, 0, 0, 0, 0, 0, 0, 0, 0, 0, 0, 0, 0, 0, 0, 0, 0, 0, 0, 0, 0, 0, 0, 0, 0, 0, 0, 0, 0, 0, 0, 0, 0, 0, 0, 0, 0, 0, 0, 0, 0, 0, 0, 0, 0, 0, 0, 0, 0, 0, 0, 0, 0, 0, 0, 0]\n",
            "Tick: 1300/ Portfolio (USD): 999.2721587918113\n",
            "Long: 0/ Short: 0\n",
            "[0, 0, 0, 0, 0, 0, 0, 0, 0, 0, 0, 0, 0, 0, 0, 0, 0, 0, 0, 0, 0, 0, 0, 0, 0, 0, 0, 0, 0, 0, 0, 0, 0, 0, 0, 0, 0, 0, 0, 0, 0, 0, 0, 0, 0, 0, 0, 0, 0, 0, 0, 0, 0, 0, 0, 0, 0, 0, 0, 0, 0, 0, 0, 0, 0, 0, 0, 0, 0, 0, 0, 0, 0, 0, 0, 0, 0, 0, 0, 0, 0, 0, 0, 0, 0, 0, 0, 0, 0, 0, 0, 0, 0, 0, 0, 0, 0, 0, 0, 0]\n",
            "Tick: 1400/ Portfolio (USD): 999.308903223137\n",
            "Long: 0/ Short: 0\n",
            "[0, 0, 0, 0, 0, 0, 0, 0, 0, 0, 0, 0, 0, 0, 0, 0, 0, 0, 0, 0, 0, 0, 0, 0, 0, 0, 0, 0, 0, 0, 0, 0, 0, 0, 0, 0, 0, 0, 0, 0, 0, 0, 0, 0, 0, 0, 0, 0, 0, 0, 0, 0, 0, 0, 0, 0, 0, 0, 0, 0, 0, 0, 0, 0, 0, 0, 0, 0, 0, 0, 0, 0, 0, 0, 0, 0, 0, 0, 0, 0, 0, 0, 0, 0, 0, 0, 0, 0, 0, 0, 0, 0, 0, 0, 0, 0, 0, 0, 0, 0]\n",
            "Tick: 1500/ Portfolio (USD): 999.3676943132583\n",
            "Long: 0/ Short: 0\n",
            "[0, 0, 0, 0, 0, 0, 0, 0, 0, 0, 0, 0, 0, 0, 0, 0, 0, 0, 0, 0, 0, 0, 0, 0, 0, 0, 0, 0, 0, 0, 0, 0, 0, 0, 0, 0, 0, 0, 0, 0, 0, 0, 0, 0, 0, 0, 0, 0, 0, 0, 0, 0, 0, 0, 0, 0, 0, 0, 0, 0, 0, 0, 0, 0, 0, 0, 0, 0, 0, 0, 0, 0, 0, 0, 0, 0, 0, 0, 0, 0, 0, 0, 0, 0, 0, 0, 0, 0, 0, 0, 0, 0, 0, 0, 0, 0, 0, 0, 0, 0]\n",
            "Tick: 1600/ Portfolio (USD): 999.3382987681977\n",
            "Long: 0/ Short: 0\n",
            "[0, 0, 0, 0, 0, 0, 0, 0, 0, 0, 0, 0, 0, 0, 0, 0, 0, 0, 0, 0, 0, 0, 0, 0, 0, 0, 0, 0, 0, 0, 0, 0, 0, 0, 0, 0, 0, 0, 0, 0, 0, 0, 0, 0, 0, 0, 0, 0, 0, 0, 0, 0, 0, 0, 0, 0, 0, 0, 0, 0, 0, 0, 0, 0, 0, 0, 0, 0, 0, 0, 0, 0, 0, 0, 0, 0, 0, 0, 0, 0, 0, 0, 0, 0, 0, 0, 0, 0, 0, 0, 0, 0, 0, 0, 0, 0, 0, 0, 0, 0]\n",
            "Tick: 1700/ Portfolio (USD): 998.1036858756504\n",
            "Long: 0/ Short: 0\n",
            "[0, 0, 0, 0, 0, 0, 0, 0, 0, 0, 0, 0, 0, 0, 0, 0, 0, 0, 0, 0, 0, 0, 0, 0, 0, 0, 0, 0, 0, 0, 0, 0, 0, 0, 0, 0, 0, 0, 0, 0, 0, 0, 0, 0, 0, 0, 0, 0, 0, 0, 0, 0, 0, 0, 0, 0, 0, 0, 0, 0, 0, 0, 0, 0, 0, 0, 0, 0, 0, 0, 0, 0, 0, 0, 0, 0, 0, 0, 0, 0, 0, 0, 0, 0, 0, 0, 0, 0, 0, 0, 0, 0, 0, 0, 0, 0, 0, 0, 0, 0]\n",
            "Tick: 1800/ Portfolio (USD): 997.0233995946712\n",
            "Long: 0/ Short: 0\n",
            "[0, 0, 0, 0, 0, 0, 0, 0, 0, 0, 0, 0, 0, 0, 0, 0, 0, 0, 0, 0, 0, 0, 0, 0, 0, 0, 0, 0, 0, 0, 0, 0, 0, 0, 0, 0, 0, 0, 0, 0, 0, 0, 0, 0, 0, 0, 0, 0, 0, 0, 0, 0, 0, 0, 0, 0, 0, 0, 0, 0, 0, 0, 0, 0, 0, 0, 0, 0, 0, 0, 0, 0, 0, 0, 0, 0, 0, 0, 0, 0, 0, 0, 0, 0, 0, 0, 0, 0, 0, 0, 0, 0, 0, 0, 0, 0, 0, 0, 0, 0]\n",
            "Tick: 1900/ Portfolio (USD): 994.9069203503044\n",
            "Long: 0/ Short: 0\n",
            "[0, 0, 0, 0, 0, 0, 0, 0, 0, 0, 0, 0, 0, 0, 0, 0, 0, 0, 0, 0, 0, 0, 0, 0, 0, 0, 0, 0, 0, 0, 0, 0, 0, 0, 0, 0, 0, 0, 0, 0, 0, 0, 0, 0, 0, 0, 0, 0, 0, 0, 0, 0, 0, 0, 0, 0, 0, 0, 0, 0, 0, 0, 0, 0, 0, 0, 0, 0, 0, 0, 0, 0, 0, 0, 0, 0, 0, 0, 0, 0, 0, 0, 0, 0, 0, 0, 0, 0, 0, 0, 0, 0, 0, 0, 0, 0, 0, 0, 0, 0]\n",
            "Tick: 2000/ Portfolio (USD): 995.3552024124792\n",
            "Long: 0/ Short: 0\n",
            "[0, 0, 0, 0, 0, 0, 0, 0, 0, 0, 0, 0, 0, 0, 0, 0, 0, 0, 0, 0, 0, 0, 0, 0, 0, 0, 0, 0, 0, 0, 0, 0, 0, 0, 0, 0, 0, 0, 0, 0, 0, 0, 0, 0, 0, 0, 0, 0, 0, 0, 0, 0, 0, 0, 0, 0, 0, 0, 0, 0, 0, 0, 0, 0, 0, 0, 0, 0, 0, 0, 0, 0, 0, 0, 0, 0, 0, 0, 0, 0, 0, 0, 0, 0, 0, 0, 0, 0, 0, 0, 0, 0, 0, 0, 0, 0, 0, 0, 0, 0]\n",
            "Tick: 2100/ Portfolio (USD): 995.6271112042904\n",
            "Long: 0/ Short: 0\n",
            "[0, 0, 0, 0, 0, 0, 0, 0, 0, 0, 0, 0, 0, 0, 0, 0, 0, 0, 0, 0, 0, 0, 0, 0, 0, 0, 0, 0, 0, 0, 0, 0, 0, 0, 0, 0, 0, 0, 0, 0, 0, 0, 0, 0, 0, 0, 0, 0, 0, 0, 0, 0, 0, 0, 0, 0, 0, 0, 0, 0, 0, 0, 0, 0, 0, 0, 0, 0, 0, 0, 0, 0, 0, 0, 0, 0, 0, 0, 0, 0, 0, 0, 0, 0, 0, 0, 0, 0, 0, 0, 0, 0, 0, 0, 0, 0, 0, 0, 0, 0]\n",
            "Tick: 2200/ Portfolio (USD): 987.8078962181568\n",
            "Long: 0/ Short: 0\n",
            "[0, 0, 0, 0, 0, 0, 0, 0, 0, 0, 0, 0, 0, 0, 0, 0, 0, 0, 0, 0, 0, 0, 0, 0, 0, 0, 0, 0, 0, 0, 0, 0, 0, 0, 0, 0, 0, 0, 0, 0, 0, 0, 0, 0, 0, 0, 0, 0, 0, 0, 0, 0, 0, 0, 0, 0, 0, 0, 0, 0, 0, 0, 0, 0, 0, 0, 0, 0, 0, 0, 0, 0, 0, 0, 0, 0, 0, 0, 0, 0, 0, 0, 0, 0, 0, 0, 0, 0, 0, 0, 0, 0, 0, 0, 0, 0, 0, 0, 0, 0]\n",
            "Tick: 2300/ Portfolio (USD): 986.9921698427239\n",
            "Long: 0/ Short: 0\n",
            "[0, 0, 0, 0, 0, 0, 0, 0, 0, 0, 0, 0, 0, 0, 0, 0, 0, 0, 0, 0, 0, 0, 0, 0, 0, 0, 0, 0, 0, 0, 0, 0, 0, 0, 0, 0, 0, 0, 0, 0, 0, 0, 0, 0, 0, 0, 0, 0, 0, 0, 0, 0, 0, 0, 0, 0, 0, 0, 0, 0, 0, 0, 0, 0, 0, 0, 0, 0, 0, 0, 0, 0, 0, 0, 0, 0, 0, 0, 0, 0, 0, 0, 0, 0, 0, 0, 0, 0, 0, 0, 0, 0, 0, 0, 0, 0, 0, 0, 0, 0]\n",
            "Tick: 2400/ Portfolio (USD): 986.8525410036857\n",
            "Long: 0/ Short: 0\n",
            "[0, 0, 0, 0, 0, 0, 0, 0, 0, 0, 0, 0, 0, 0, 0, 0, 0, 0, 0, 0, 0, 0, 0, 0, 0, 0, 0, 0, 0, 0, 0, 0, 0, 0, 0, 0, 0, 0, 0, 0, 0, 0, 0, 0, 0, 0, 0, 0, 0, 0, 0, 0, 0, 0, 0, 0, 0, 0, 0, 0, 0, 0, 0, 0, 0, 0, 0, 0, 0, 0, 0, 0, 0, 0, 0, 0, 0, 0, 0, 0, 0, 0, 0, 0, 0, 0, 0, 0, 0, 0, 0, 0, 0, 0, 0, 0, 0, 0, 0, 0]\n",
            "Tick: 2500/ Portfolio (USD): 985.9118835617446\n",
            "Long: 0/ Short: 0\n",
            "[0, 0, 0, 0, 0, 0, 0, 0, 0, 0, 0, 0, 0, 0, 0, 0, 0, 0, 0, 0, 0, 0, 0, 0, 0, 0, 0, 0, 0, 0, 0, 0, 0, 0, 0, 0, 0, 0, 0, 0, 0, 0, 0, 0, 0, 0, 0, 0, 0, 0, 0, 0, 0, 0, 0, 0, 0, 0, 0, 0, 0, 0, 0, 0, 0, 0, 0, 0, 0, 0, 0, 0, 0, 0, 0, 0, 0, 0, 0, 0, 0, 0, 0, 0, 0, 0, 0, 0, 0, 0, 0, 0, 0, 0, 0, 0, 0, 0, 0, 0]\n",
            "Tick: 2600/ Portfolio (USD): 985.2945771154709\n",
            "Long: 0/ Short: 0\n",
            "[0, 0, 0, 0, 0, 0, 0, 0, 0, 0, 0, 0, 0, 0, 0, 0, 0, 0, 0, 0, 0, 0, 0, 0, 0, 0, 0, 0, 0, 0, 0, 0, 0, 0, 0, 0, 0, 0, 0, 0, 0, 0, 0, 0, 0, 0, 0, 0, 0, 0, 0, 0, 0, 0, 0, 0, 0, 0, 0, 0, 0, 0, 0, 0, 0, 0, 0, 0, 0, 0, 0, 0, 0, 0, 0, 0, 0, 0, 0, 0, 0, 0, 0, 0, 0, 0, 0, 0, 0, 0, 0, 0, 0, 0, 0, 0, 0, 0, 0, 0]\n",
            "Tick: 2700/ Portfolio (USD): 984.9418305747433\n",
            "Long: 0/ Short: 0\n",
            "[0, 0, 0, 0, 0, 0, 0, 0, 0, 0, 0, 0, 0, 0, 0, 0, 0, 0, 0, 0, 0, 0, 0, 0, 0, 0, 0, 0, 0, 0, 0, 0, 0, 0, 0, 0, 0, 0, 0, 0, 0, 0, 0, 0, 0, 0, 0, 0, 0, 0, 0, 0, 0, 0, 0, 0, 0, 0, 0, 0, 0, 0, 0, 0, 0, 0, 0, 0, 0, 0, 0, 0, 0, 0, 0, 0, 0, 0, 0, 0, 0, 0, 0, 0, 0, 0, 0, 0, 0, 0, 0, 0, 0, 0, 0, 0, 0, 0, 0, 0]\n",
            "Tick: 2800/ Portfolio (USD): 985.2063904802892\n",
            "Long: 0/ Short: 0\n",
            "[0, 0, 0, 0, 0, 0, 0, 0, 0, 0, 0, 0, 0, 0, 0, 0, 0, 0, 0, 0, 0, 0, 0, 0, 0, 0, 0, 0, 0, 0, 0, 0, 0, 0, 0, 0, 0, 0, 0, 0, 0, 0, 0, 0, 0, 0, 0, 0, 0, 0, 0, 0, 0, 0, 0, 0, 0, 0, 0, 0, 0, 0, 0, 0, 0, 0, 0, 0, 0, 0, 0, 0, 0, 0, 0, 0, 0, 0, 0, 0, 0, 0, 0, 0, 0, 0, 0, 0, 0, 0, 0, 0, 0, 0, 0, 0, 0, 0, 0, 0]\n",
            "Tick: 2900/ Portfolio (USD): 984.5890840340154\n",
            "Long: 0/ Short: 0\n",
            "[0, 0, 0, 0, 0, 0, 0, 0, 0, 0, 0, 0, 0, 0, 0, 0, 0, 0, 0, 0, 0, 0, 0, 0, 0, 0, 0, 0, 0, 0, 0, 0, 0, 0, 0, 0, 0, 0, 0, 0, 0, 0, 0, 0, 0, 0, 0, 0, 0, 0, 0, 0, 0, 0, 0, 0, 0, 0, 0, 0, 0, 0, 0, 0, 0, 0, 0, 0, 0, 0, 0, 0, 0, 0, 0, 0, 0, 0, 0, 0, 0, 0, 0, 0, 0, 0, 0, 0, 0, 0, 0, 0, 0, 0, 0, 0, 0, 0, 0, 0]\n",
            "Tick: 3000/ Portfolio (USD): 985.015319437395\n",
            "Long: 0/ Short: 0\n",
            "[0, 0, 0, 0, 0, 0, 0, 0, 0, 0, 0, 0, 0, 0, 0, 0, 0, 0, 0, 0, 0, 0, 0, 0, 0, 0, 0, 0, 0, 0, 0, 0, 0, 0, 0, 0, 0, 0, 0, 0, 0, 0, 0, 0, 0, 0, 0, 0, 0, 0, 0, 0, 0, 0, 0, 0, 0, 0, 0, 0, 0, 0, 0, 0, 0, 0, 0, 0, 0, 0, 0, 0, 0, 0, 0, 0, 0, 0, 0, 0, 0, 0, 0, 0, 0, 0, 0, 0, 0, 0, 0, 0, 0, 0, 0, 0, 0, 0, 0, 0]\n",
            "Tick: 3100/ Portfolio (USD): 985.6179281111382\n",
            "Long: 0/ Short: 0\n",
            "[0, 0, 0, 0, 0, 0, 0, 0, 0, 0, 0, 0, 0, 0, 0, 0, 0, 0, 0, 0, 0, 0, 0, 0, 0, 0, 0, 0, 0, 0, 0, 0, 0, 0, 0, 0, 0, 0, 0, 0, 0, 0, 0, 0, 0, 0, 0, 0, 0, 0, 0, 0, 0, 0, 0, 0, 0, 0, 0, 0, 0, 0, 0, 0, 0, 0, 0, 0, 0, 0, 0, 0, 0, 0, 0, 0, 0, 0, 0, 0, 0, 0, 0, 0, 0, 0, 0, 0, 0, 0, 0, 0, 0, 0, 0, 0, 0, 0, 0, 0]\n",
            "Tick: 3200/ Portfolio (USD): 983.4647044354454\n",
            "Long: 0/ Short: 0\n",
            "[0, 0, 0, 0, 0, 0, 0, 0, 0, 0, 0, 0, 0, 0, 0, 0, 0, 0, 0, 0, 0, 0, 0, 0, 0, 0, 0, 0, 0, 0, 0, 0, 0, 0, 0, 0, 0, 0, 0, 0, 0, 0, 0, 0, 0, 0, 0, 0, 0, 0, 0, 0, 0, 0, 0, 0, 0, 0, 0, 0, 0, 0, 0, 0, 0, 0, 0, 0, 0, 0, 0, 0, 0, 0, 0, 0, 0, 0, 0, 0, 0, 0, 0, 0, 0, 0, 0, 0, 0, 0, 0, 0, 0, 0, 0, 0, 0, 0, 0, 0]\n",
            "Tick: 3300/ Portfolio (USD): 983.7366132272566\n",
            "Long: 0/ Short: 0\n",
            "[0, 0, 0, 0, 0, 0, 0, 0, 0, 0, 0, 0, 0, 0, 0, 0, 0, 0, 0, 0, 0, 0, 0, 0, 0, 0, 0, 0, 0, 0, 0, 0, 0, 0, 0, 0, 0, 0, 0, 0, 0, 0, 0, 0, 0, 0, 0, 0, 0, 0, 0, 0, 0, 0, 0, 0, 0, 0, 0, 0, 0, 0, 0, 0, 0, 0, 0, 0, 0, 0, 0, 0, 0, 0, 0, 0, 0, 0, 0, 0, 0, 0, 0, 0, 0, 0, 0, 0, 0, 0, 0, 0, 0, 0, 0, 0, 0, 0, 0, 0]\n",
            "Tick: 3400/ Portfolio (USD): 984.1408019718405\n",
            "Long: 0/ Short: 0\n",
            "[0, 0, 0, 0, 0, 0, 0, 0, 0, 0, 0, 0, 0, 0, 0, 0, 0, 0, 0, 0, 0, 0, 0, 0, 0, 0, 0, 0, 0, 0, 0, 0, 0, 0, 0, 0, 0, 0, 0, 0, 0, 0, 0, 0, 0, 0, 0, 0, 0, 0, 0, 0, 0, 0, 0, 0, 0, 0, 0, 0, 0, 0, 0, 0, 0, 0, 0, 0, 0, 0, 0, 0, 0, 0, 0, 0, 0, 0, 0, 0, 0, 0, 0, 0, 0, 0, 0, 0, 0, 0, 0, 0, 0, 0, 0, 0, 0, 0, 0, 0]\n",
            "Tick: 3500/ Portfolio (USD): 981.1571541481843\n",
            "Long: 0/ Short: 0\n",
            "[0, 0, 0, 0, 0, 0, 0, 0, 0, 0, 0, 0, 0, 0, 0, 0, 0, 0, 0, 0, 0, 0, 0, 0, 0, 0, 0, 0, 0, 0, 0, 0, 0, 0, 0, 0, 0, 0, 0, 0, 0, 0, 0, 0, 0, 0, 0, 0, 0, 0, 0, 0, 0, 0, 0, 0, 0, 0, 0, 0, 0, 0, 0, 0, 0, 0, 0, 0, 0, 0, 0, 0, 0, 0, 0, 0, 0, 0, 0, 0, 0, 0, 0, 0, 0, 0, 0, 0, 0, 0, 0, 0, 0, 0, 0, 0, 0, 0, 0, 0]\n",
            "Tick: 3600/ Portfolio (USD): 981.4805051438515\n",
            "Long: 0/ Short: 0\n",
            "[0, 0, 0, 0, 0, 0, 0, 0, 0, 0, 0, 0, 0, 0, 0, 0, 0, 0, 0, 0, 0, 0, 0, 0, 0, 0, 0, 0, 0, 0, 0, 0, 0, 0, 0, 0, 0, 0, 0, 0, 0, 0, 0, 0, 0, 0, 0, 0, 0, 0, 0, 0, 0, 0, 0, 0, 0, 0, 0, 0, 0, 0, 0, 0, 0, 0, 0, 0, 0, 0, 0, 0, 0, 0, 0, 0, 0, 0, 0, 0, 0, 0, 0, 0, 0, 0, 0, 0, 0, 0, 0, 0, 0, 0, 0, 0, 0, 0, 0, 0]\n",
            "Tick: 3700/ Portfolio (USD): 981.3555740773436\n",
            "Long: 0/ Short: 0\n",
            "[0, 0, 0, 0, 0, 0, 0, 0, 0, 0, 0, 0, 0, 0, 0, 0, 0, 0, 0, 0, 0, 0, 0, 0, 0, 0, 0, 0, 0, 0, 0, 0, 0, 0, 0, 0, 0, 0, 0, 0, 0, 0, 0, 0, 0, 0, 0, 0, 0, 0, 0, 0, 0, 0, 0, 0, 0, 0, 0, 0, 0, 0, 0, 0, 0, 0, 0, 0, 0, 0, 0, 0, 0, 0, 0, 0, 0, 0, 0, 0, 0, 0, 0, 0, 0, 0, 0, 0, 0, 0, 0, 0, 0, 0, 0, 0, 0, 0, 0, 0]\n",
            "Tick: 3800/ Portfolio (USD): 981.8406005708445\n",
            "Long: 0/ Short: 0\n",
            "[0, 0, 0, 0, 0, 0, 0, 0, 0, 0, 0, 0, 0, 0, 0, 0, 0, 0, 0, 0, 0, 0, 0, 0, 0, 0, 0, 0, 0, 0, 0, 0, 0, 0, 0, 0, 0, 0, 0, 0, 0, 0, 0, 0, 0, 0, 0, 0, 0, 0, 0, 0, 0, 0, 0, 0, 0, 0, 0, 0, 0, 0, 0, 0, 0, 0, 0, 0, 0, 0, 0, 0, 0, 0, 0, 0, 0, 0, 0, 0, 0, 0, 0, 0, 0, 0, 0, 0, 0, 0, 0, 0, 0, 0, 0, 0, 0, 0, 0, 0]\n",
            "Tick: 3900/ Portfolio (USD): 982.4285114720575\n",
            "Long: 0/ Short: 0\n",
            "[0, 0, 0, 0, 0, 0, 0, 0, 0, 0, 0, 0, 0, 0, 0, 0, 0, 0, 0, 0, 0, 0, 0, 0, 0, 0, 0, 0, 0, 0, 0, 0, 0, 0, 0, 0, 0, 0, 0, 0, 0, 0, 0, 0, 0, 0, 0, 0, 0, 0, 0, 0, 0, 0, 0, 0, 0, 0, 0, 0, 0, 0, 0, 0, 0, 0, 0, 0, 0, 0, 0, 0, 0, 0, 0, 0, 0, 0, 0, 0, 0, 0, 0, 0, 0, 0, 0, 0, 0, 0, 0, 0, 0, 0, 0, 0, 0, 0, 0, 0]\n",
            "Episode 1: reward: 7800.000, steps: 3900\n"
          ],
          "name": "stdout"
        }
      ]
    },
    {
      "cell_type": "code",
      "metadata": {
        "id": "7EZ4A4EUi7Qe",
        "colab": {
          "base_uri": "https://localhost:8080/",
          "height": 1000
        },
        "outputId": "ae14f462-43f1-4f16-c540-21f4c3502ca0"
      },
      "source": [
        "# Print the Metrics for Testing Data\n",
        "\n",
        "start_index=TIME_STEP\n",
        "end_index=len(info[\"history\"])\n",
        "\n",
        "values=[]\n",
        "for i in range(len(info[\"history\"])):\n",
        "  values.append(info[\"history\"][i][5])\n",
        "\n",
        "qs.extend_pandas()\n",
        "\n",
        "end_index=len(values)\n",
        "\n",
        "net_worth = pd.Series(values, index=data.index[start_index+1:end_index+TIME_STEP+1])\n",
        "# returns = net_worth.pct_change().iloc[1:]\n",
        "returns=net_worth\n",
        "returns=returns.fillna(0)\n",
        "# lot_size=100000\n",
        "lot_size=1\n",
        "pip=(100*5)*lot_size\n",
        "# pip=1\n",
        "returns=returns\n",
        "\n",
        "\n",
        "avg_profit=returns.avg_win()*pip\n",
        "profit_factor=returns.profit_factor()\n",
        "r_squared=returns.r_squared(data['close'])\n",
        "sharpe_ratio=returns.sharpe()\n",
        "sortino_ratio=returns.sortino()\n",
        "if((data.index[end_index-1]-data.index[start_index+1]).days<1):\n",
        "  avg_trades_per_day=len(returns[returns!=0])\n",
        "else:\n",
        "  avg_trades_per_day=len(returns[returns!=0])/(data.index[end_index-1]-data.index[start_index+1]).days\n",
        "drawdown=returns.max_drawdown()*100\n",
        "largest_loss=min(returns)*pip\n",
        "largest_win=max(returns)*pip\n",
        "months=(data.index[end_index-1]-data.index[start_index+1]).days//30\n",
        "if((data.index[end_index-1]-data.index[start_index+1]).days%30 != 0):\n",
        "  months+=1\n",
        "if((data.index[end_index-1]-data.index[start_index+1]).days/30 == 0):\n",
        "  months+=1\n",
        "profit_per_month=(returns[returns>0].sum()+returns[returns<0].sum())/(months)*pip\n",
        "# winning_trades=(len(returns[returns>0])/len(returns[returns<0]))*100\n",
        "winning_trades=len(returns[returns>0])\n",
        "losing_trades=len(returns[returns<0])\n",
        "\n",
        "print(\"---------------------REQUIRED METRICS--------------------\")\n",
        "\n",
        "print(\"NUMBER OF STEPS: \", len(values))\n",
        "print(\"START DATE: \",data.index[start_index])\n",
        "print(\"END DATE: \",data.index[end_index+TIME_STEP])\n",
        "print()\n",
        "print(\"AVERAGE PROFIT: \",avg_profit)\n",
        "print(\"PROFIT FACTOR: \",profit_factor)\n",
        "print(\"R SQAURED: \",r_squared*100)\n",
        "print(\"SHARPE RATIO: \",sharpe_ratio)\n",
        "print(\"SORTINO RATIO: \",sortino_ratio)\n",
        "print(\"AVGERAGE NUMBER OF TRADES PER DAY: \",avg_trades_per_day)\n",
        "print(\"DRAWDOWN: \",drawdown)\n",
        "print(\"LARGEST LOSS: \",largest_loss)\n",
        "print(\"LARGEST WIN: \",largest_win)\n",
        "print(\"PROFIT PER MONTH: \",profit_per_month)\n",
        "print(\"WINNING TRADES: \", winning_trades)\n",
        "print(\"LOSING TRADES: \",losing_trades)\n",
        "print()\n",
        "\n",
        "# x=50\n",
        "qs.reports.full(returns)"
      ],
      "execution_count": null,
      "outputs": [
        {
          "output_type": "stream",
          "text": [
            "---------------------REQUIRED METRICS--------------------\n",
            "NUMBER OF STEPS:  3900\n",
            "START DATE:  2015-10-20 21:31:00\n",
            "END DATE:  2015-10-25 21:41:00\n",
            "\n",
            "AVERAGE PROFIT:  8.025547445255624\n",
            "PROFIT FACTOR:  1.194459532862619\n",
            "R SQAURED:  0.0041488358326306415\n",
            "SHARPE RATIO:  0.19773262404679523\n",
            "SORTINO RATIO:  0.24118618490785454\n",
            "AVGERAGE NUMBER OF TRADES PER DAY:  59.75\n",
            "DRAWDOWN:  -35.662023420801056\n",
            "LARGEST LOSS:  -106.00000000000165\n",
            "LARGEST WIN:  43.00000000000637\n",
            "PROFIT PER MONTH:  179.00000000003757\n",
            "WINNING TRADES:  137\n",
            "LOSING TRADES:  102\n",
            "\n",
            "[Performance Metrics]\n",
            "\n",
            "                           Strategy\n",
            "-------------------------  --------------\n",
            "Start Period               2015-10-20\n",
            "End Period                 2015-10-25\n",
            "Risk-Free Rate             0.0%\n",
            "Time in Market             7.0%\n",
            "\n",
            "Cumulative Return          27.78%\n",
            "CAGR%                      5927559047.58%\n",
            "\n",
            "Sharpe                     0.2\n",
            "Sortino                    0.24\n",
            "Sortino/√2                 0.17\n",
            "\n",
            "Max Drawdown               -35.66%\n",
            "Longest DD Days            2\n",
            "Volatility (ann.)          11.7%\n",
            "Calmar                     166214882.92\n",
            "Skew                       -11.2\n",
            "Kurtosis                   332.51\n",
            "\n",
            "Expected Daily %           0.01%\n",
            "Expected Monthly %         27.78%\n",
            "Expected Yearly %          27.78%\n",
            "Kelly Criterion            9.33%\n",
            "Risk of Ruin               0.0%\n",
            "Daily Value-at-Risk        -1.2%\n",
            "Expected Shortfall (cVaR)  -1.2%\n",
            "\n",
            "Gain/Pain Ratio            3.65\n",
            "Gain/Pain (1M)             inf\n",
            "\n",
            "Payoff Ratio               0.89\n",
            "Profit Factor              1.19\n",
            "Common Sense Ratio         nan\n",
            "CPC Index                  0.61\n",
            "Tail Ratio                 nan\n",
            "Outlier Win Ratio          32.82\n",
            "Outlier Loss Ratio         0.61\n",
            "\n",
            "MTD                        27.78%\n",
            "3M                         27.78%\n",
            "6M                         27.78%\n",
            "YTD                        27.78%\n",
            "1Y                         27.78%\n",
            "3Y (ann.)                  5927559047.58%\n",
            "5Y (ann.)                  5927559047.58%\n",
            "10Y (ann.)                 5927559047.58%\n",
            "All-time (ann.)            5927559047.58%\n",
            "\n",
            "Best Day                   8.6%\n",
            "Worst Day                  -21.2%\n",
            "Best Month                 27.78%\n",
            "Worst Month                27.78%\n",
            "Best Year                  27.78%\n",
            "Worst Year                 27.78%\n",
            "\n",
            "Avg. Drawdown              -8.25%\n",
            "Avg. Drawdown Days         0\n",
            "Recovery Factor            0.78\n",
            "Ulcer Index                1.0\n",
            "\n",
            "Avg. Up Month              27.78%\n",
            "Avg. Down Month            nan%\n",
            "Win Days %                 57.32%\n",
            "Win Month %                100.0%\n",
            "Win Quarter %              100.0%\n",
            "Win Year %                 100.0%\n",
            "\n",
            "\n",
            "\n",
            "[5 Worst Drawdowns]\n",
            "\n",
            "    Start       Valley      End           Days    Max Drawdown    99% Max Drawdown\n",
            "--  ----------  ----------  ----------  ------  --------------  ------------------\n",
            " 1  2015-10-23  2015-10-23  2015-10-25       2          -35.66              -30.69\n",
            " 2  2015-10-22  2015-10-22  2015-10-23       0          -19.94              -19.31\n",
            " 3  2015-10-22  2015-10-22  2015-10-22      -1          -14.55              -12.54\n",
            " 4  2015-10-22  2015-10-22  2015-10-22       0          -12.94              -11.88\n",
            " 5  2015-10-21  2015-10-21  2015-10-21       0          -10.28              -10.05\n",
            "\n",
            "\n",
            "\n",
            "[Strategy Visualization]\n",
            "via Matplotlib\n"
          ],
          "name": "stdout"
        },
        {
          "output_type": "display_data",
          "data": {
            "image/png": "[encoded data removed]",
            "text/plain": [
              "<Figure size 576x345.6 with 1 Axes>"
            ]
          },
          "metadata": {
            "tags": []
          }
        },
        {
          "output_type": "display_data",
          "data": {
            "image/png": "[encoded data removed]",
            "text/plain": [
              "<Figure size 576x288 with 1 Axes>"
            ]
          },
          "metadata": {
            "tags": []
          }
        },
        {
          "output_type": "display_data",
          "data": {
            "image/png": "[encoded data removed]",
            "text/plain": [
              "<Figure size 576x288 with 1 Axes>"
            ]
          },
          "metadata": {
            "tags": []
          }
        },
        {
          "output_type": "display_data",
          "data": {
            "image/png": "[encoded data removed]",
            "text/plain": [
              "<Figure size 576x288 with 1 Axes>"
            ]
          },
          "metadata": {
            "tags": []
          }
        },
        {
          "output_type": "display_data",
          "data": {
            "image/png": "[encoded data removed]",
            "text/plain": [
              "<Figure size 576x172.8 with 1 Axes>"
            ]
          },
          "metadata": {
            "tags": []
          }
        },
        {
          "output_type": "display_data",
          "data": {
            "image/png": "[encoded data removed]",
            "text/plain": [
              "<Figure size 576x172.8 with 1 Axes>"
            ]
          },
          "metadata": {
            "tags": []
          }
        },
        {
          "output_type": "display_data",
          "data": {
            "image/png": "[encoded data removed]",
            "text/plain": [
              "<Figure size 576x172.8 with 1 Axes>"
            ]
          },
          "metadata": {
            "tags": []
          }
        },
        {
          "output_type": "display_data",
          "data": {
            "image/png": "[encoded data removed]",
            "text/plain": [
              "<Figure size 576x172.8 with 1 Axes>"
            ]
          },
          "metadata": {
            "tags": []
          }
        },
        {
          "output_type": "display_data",
          "data": {
            "image/png": "[encoded data removed]",
            "text/plain": [
              "<Figure size 576x288 with 1 Axes>"
            ]
          },
          "metadata": {
            "tags": []
          }
        },
        {
          "output_type": "display_data",
          "data": {
            "image/png": "[encoded data removed]",
            "text/plain": [
              "<Figure size 576x230.4 with 1 Axes>"
            ]
          },
          "metadata": {
            "tags": []
          }
        },
        {
          "output_type": "display_data",
          "data": {
            "image/png": "[encoded data removed]",
            "text/plain": [
              "<Figure size 599.04x288 with 2 Axes>"
            ]
          },
          "metadata": {
            "tags": []
          }
        },
        {
          "output_type": "display_data",
          "data": {
            "image/png": "[encoded data removed]",
            "text/plain": [
              "<Figure size 576x288 with 1 Axes>"
            ]
          },
          "metadata": {
            "tags": []
          }
        }
      ]
    },
    {
      "cell_type": "code",
      "metadata": {
        "colab": {
          "base_uri": "https://localhost:8080/"
        },
        "id": "boxHy49vK0ht",
        "outputId": "7fb8d4cf-072a-4628-81bb-ae28c32767f9"
      },
      "source": [
        "!pip install forex_python"
      ],
      "execution_count": null,
      "outputs": [
        {
          "output_type": "stream",
          "text": [
            "Collecting forex_python\n",
            "  Downloading https://files.pythonhosted.org/packages/1a/ff/f3f6da21e8fdc6ece355643871749c79a3191fed1cba088cbd0dc597dfee/forex-python-1.5.tar.gz\n",
            "Requirement already satisfied: requests in /usr/local/lib/python3.7/dist-packages (from forex_python) (2.23.0)\n",
            "Collecting simplejson\n",
            "\u001b[?25l  Downloading https://files.pythonhosted.org/packages/a8/04/377418ac1e530ce2a196b54c6552c018fdf1fe776718053efb1f216bffcd/simplejson-3.17.2-cp37-cp37m-manylinux2010_x86_64.whl (128kB)\n",
            "\u001b[K     |████████████████████████████████| 133kB 5.0MB/s \n",
            "\u001b[?25hRequirement already satisfied: chardet<4,>=3.0.2 in /usr/local/lib/python3.7/dist-packages (from requests->forex_python) (3.0.4)\n",
            "Requirement already satisfied: urllib3!=1.25.0,!=1.25.1,<1.26,>=1.21.1 in /usr/local/lib/python3.7/dist-packages (from requests->forex_python) (1.24.3)\n",
            "Requirement already satisfied: certifi>=2017.4.17 in /usr/local/lib/python3.7/dist-packages (from requests->forex_python) (2020.12.5)\n",
            "Requirement already satisfied: idna<3,>=2.5 in /usr/local/lib/python3.7/dist-packages (from requests->forex_python) (2.10)\n",
            "Building wheels for collected packages: forex-python\n",
            "  Building wheel for forex-python (setup.py) ... \u001b[?25l\u001b[?25hdone\n",
            "  Created wheel for forex-python: filename=forex_python-1.5-cp37-none-any.whl size=7235 sha256=13ca2cd2ec667e71bb3792c417bf3d1770db6c30bbf647c1eb0c1f8ea6db9218\n",
            "  Stored in directory: /root/.cache/pip/wheels/c9/ee/ce/a0c208e72d186b786b0c51914675bc03d1bf00b8ed9406271b\n",
            "Successfully built forex-python\n",
            "Installing collected packages: simplejson, forex-python\n",
            "Successfully installed forex-python-1.5 simplejson-3.17.2\n"
          ],
          "name": "stdout"
        }
      ]
    },
    {
      "cell_type": "code",
      "metadata": {
        "id": "personalized-killing"
      },
      "source": [
        "from forex_python.converter import CurrencyRates\n",
        "from random import uniform"
      ],
      "execution_count": null,
      "outputs": []
    },
    {
      "cell_type": "markdown",
      "metadata": {
        "id": "irish-oriental"
      },
      "source": [
        "# All functions here"
      ]
    },
    {
      "cell_type": "code",
      "metadata": {
        "id": "outstanding-folder"
      },
      "source": [
        "class Portfolio:\n",
        "    def __init__(self,usd,eur):\n",
        "        self.usd = usd\n",
        "        self.eur = eur\n",
        "        \n",
        "def get_value(portfolio):\n",
        "    currency_instance = CurrencyRates()\n",
        "    total_value_in_euro = portfolio.eur + currency_instance.get_rate('USD','EUR')*portfolio.usd\n",
        "    return total_value_in_euro\n",
        "\n",
        "def gross_profit(initial_value,final_porfolio,total_transaction_charges):\n",
        "    final_value = get_value(final_porfolio)\n",
        "    return final_value-initial_value-total_transaction_charges\n",
        "\n",
        "def gross_loss(initial_value,final_porfolio,total_transaction_charges):\n",
        "    return -gross_profit(initial_value,final_porfolio,total_transaction_charges)\n",
        "\n",
        "\n",
        "'''\n",
        "Flat is a price that is neither rising nor declining.\n",
        "\n",
        "'''\n",
        "def flat_period(profit_or_loss_for_entire_period_of_trading):\n",
        "    delta = 0\n",
        "    maximum_duration = 0\n",
        "    \n",
        "    iterator = 0\n",
        "    size_of_trading = len(profit_or_loss_for_entire_period_of_trading)\n",
        "    start_period = 0\n",
        "    end_period = 0\n",
        "    while(iterator<size_of_trading):\n",
        "        curr_size = 0\n",
        "        curr_price = profit_or_loss_for_entire_period_of_trading[iterator]\n",
        "        temp_start = iterator\n",
        "        temp_end = iterator\n",
        "        while((iterator<size_of_trading) and (abs(profit_or_loss_for_entire_period_of_trading[iterator]-curr_price)<=delta)):\n",
        "            curr_size+=1\n",
        "            iterator+=1\n",
        "        if(curr_size>maximum_duration):\n",
        "            start_period = temp_start\n",
        "            end_period = iterator-1\n",
        "            maximum_duration = curr_size\n",
        "    return (start_period,end_period,maximum_duration)\n",
        "\n",
        "def get_maximum_conseutive_win_period(profit_or_loss_for_entire_period_of_trading):\n",
        "    maximum_duration = 0\n",
        "    iterator = 0\n",
        "    size_of_trading = len(profit_or_loss_for_entire_period_of_trading)\n",
        "    start_period = 0\n",
        "    end_period = 0\n",
        "    while(iterator<size_of_trading):\n",
        "        curr_size = 0\n",
        "        temp_start = iterator\n",
        "        temp_end = iterator\n",
        "    \n",
        "        while((iterator<size_of_trading) and (profit_or_loss_for_entire_period_of_trading[iterator]>0)):\n",
        "            curr_size+=1\n",
        "            iterator+=1\n",
        "        iterator+=1\n",
        "        if(curr_size>maximum_duration):\n",
        "            start_period = temp_start\n",
        "            end_period = temp_start+curr_size-1\n",
        "            maximum_duration = curr_size\n",
        "        \n",
        "    return (start_period,end_period,maximum_duration)\n",
        "    "
      ],
      "execution_count": null,
      "outputs": []
    },
    {
      "cell_type": "markdown",
      "metadata": {
        "id": "hungry-examination"
      },
      "source": [
        "# Test Data"
      ]
    },
    {
      "cell_type": "code",
      "metadata": {
        "id": "accomplished-smell",
        "colab": {
          "base_uri": "https://localhost:8080/",
          "height": 350
        },
        "outputId": "2ee4fcd3-c5f8-46f0-bc29-db616b39d714"
      },
      "source": [
        "initial_portfolio = Portfolio(0,1000) #initially we have 0usd and 1000eur\n",
        "initial_portfolio_value = get_value(initial_portfolio)\n",
        "\n",
        "final_portfolio = Portfolio(0,1000) #declaring our final portfolio\n",
        "transaction_charges = 0.1 #0.1 eur\n",
        "\n",
        "#Do something with your model and keep updating final portfolio\n",
        "\n",
        "final_portfolio = Portfolio(654,500)\n",
        "\n",
        "#Let say we make 20 trades with range(-10 to 10 eur) of profit in each trade\n",
        "\n",
        "number_of_trades = 20\n",
        "# profit_or_loss_for_entire_period_of_trading = [uniform(-10,10) for x in range(number_of_trades)]\n",
        "profit_or_loss_for_entire_period_of_trading=info_train[\"profits\"]\n",
        "total_trasaction_charges = transaction_charges*number_of_trades\n",
        "\n",
        "profit = gross_profit(initial_portfolio_value,final_portfolio,total_trasaction_charges)\n",
        "loss = gross_loss(initial_portfolio_value,final_portfolio,total_trasaction_charges)\n",
        "\n",
        "maximum_flat_period = flat_period(profit_or_loss_for_entire_period_of_trading)\n",
        "maximum_win_period = get_maximum_conseutive_win_period(profit_or_loss_for_entire_period_of_trading)\n",
        "\n"
      ],
      "execution_count": null,
      "outputs": [
        {
          "output_type": "error",
          "ename": "NameError",
          "evalue": "ignored",
          "traceback": [
            "\u001b[0;31m---------------------------------------------------------------------------\u001b[0m",
            "\u001b[0;31mNameError\u001b[0m                                 Traceback (most recent call last)",
            "\u001b[0;32m<ipython-input-16-232cbdb848e7>\u001b[0m in \u001b[0;36m<module>\u001b[0;34m()\u001b[0m\n\u001b[1;32m      1\u001b[0m \u001b[0minitial_portfolio\u001b[0m \u001b[0;34m=\u001b[0m \u001b[0mPortfolio\u001b[0m\u001b[0;34m(\u001b[0m\u001b[0;36m0\u001b[0m\u001b[0;34m,\u001b[0m\u001b[0;36m1000\u001b[0m\u001b[0;34m)\u001b[0m \u001b[0;31m#initially we have 0usd and 1000eur\u001b[0m\u001b[0;34m\u001b[0m\u001b[0;34m\u001b[0m\u001b[0m\n\u001b[0;32m----> 2\u001b[0;31m \u001b[0minitial_portfolio_value\u001b[0m \u001b[0;34m=\u001b[0m \u001b[0mget_value\u001b[0m\u001b[0;34m(\u001b[0m\u001b[0minitial_portfolio\u001b[0m\u001b[0;34m)\u001b[0m\u001b[0;34m\u001b[0m\u001b[0;34m\u001b[0m\u001b[0m\n\u001b[0m\u001b[1;32m      3\u001b[0m \u001b[0;34m\u001b[0m\u001b[0m\n\u001b[1;32m      4\u001b[0m \u001b[0mfinal_portfolio\u001b[0m \u001b[0;34m=\u001b[0m \u001b[0mPortfolio\u001b[0m\u001b[0;34m(\u001b[0m\u001b[0;36m0\u001b[0m\u001b[0;34m,\u001b[0m\u001b[0;36m1000\u001b[0m\u001b[0;34m)\u001b[0m \u001b[0;31m#declaring our final portfolio\u001b[0m\u001b[0;34m\u001b[0m\u001b[0;34m\u001b[0m\u001b[0m\n\u001b[1;32m      5\u001b[0m \u001b[0mtransaction_charges\u001b[0m \u001b[0;34m=\u001b[0m \u001b[0;36m0.1\u001b[0m \u001b[0;31m#0.1 eur\u001b[0m\u001b[0;34m\u001b[0m\u001b[0;34m\u001b[0m\u001b[0m\n",
            "\u001b[0;32m<ipython-input-15-23495f978e8c>\u001b[0m in \u001b[0;36mget_value\u001b[0;34m(portfolio)\u001b[0m\n\u001b[1;32m      5\u001b[0m \u001b[0;34m\u001b[0m\u001b[0m\n\u001b[1;32m      6\u001b[0m \u001b[0;32mdef\u001b[0m \u001b[0mget_value\u001b[0m\u001b[0;34m(\u001b[0m\u001b[0mportfolio\u001b[0m\u001b[0;34m)\u001b[0m\u001b[0;34m:\u001b[0m\u001b[0;34m\u001b[0m\u001b[0;34m\u001b[0m\u001b[0m\n\u001b[0;32m----> 7\u001b[0;31m     \u001b[0mcurrency_instance\u001b[0m \u001b[0;34m=\u001b[0m \u001b[0mCurrencyRates\u001b[0m\u001b[0;34m(\u001b[0m\u001b[0;34m)\u001b[0m\u001b[0;34m\u001b[0m\u001b[0;34m\u001b[0m\u001b[0m\n\u001b[0m\u001b[1;32m      8\u001b[0m     \u001b[0mtotal_value_in_euro\u001b[0m \u001b[0;34m=\u001b[0m \u001b[0mportfolio\u001b[0m\u001b[0;34m.\u001b[0m\u001b[0meur\u001b[0m \u001b[0;34m+\u001b[0m \u001b[0mcurrency_instance\u001b[0m\u001b[0;34m.\u001b[0m\u001b[0mget_rate\u001b[0m\u001b[0;34m(\u001b[0m\u001b[0;34m'USD'\u001b[0m\u001b[0;34m,\u001b[0m\u001b[0;34m'EUR'\u001b[0m\u001b[0;34m)\u001b[0m\u001b[0;34m*\u001b[0m\u001b[0mportfolio\u001b[0m\u001b[0;34m.\u001b[0m\u001b[0musd\u001b[0m\u001b[0;34m\u001b[0m\u001b[0;34m\u001b[0m\u001b[0m\n\u001b[1;32m      9\u001b[0m     \u001b[0;32mreturn\u001b[0m \u001b[0mtotal_value_in_euro\u001b[0m\u001b[0;34m\u001b[0m\u001b[0;34m\u001b[0m\u001b[0m\n",
            "\u001b[0;31mNameError\u001b[0m: name 'CurrencyRates' is not defined"
          ]
        }
      ]
    },
    {
      "cell_type": "code",
      "metadata": {
        "colab": {
          "base_uri": "https://localhost:8080/"
        },
        "id": "QFC8EbIeOtJq",
        "outputId": "768d9af1-c8a4-4925-a1e6-b45850ad142d"
      },
      "source": [
        "len(info_train[\"profits\"])"
      ],
      "execution_count": null,
      "outputs": [
        {
          "output_type": "execute_result",
          "data": {
            "text/plain": [
              "205"
            ]
          },
          "metadata": {
            "tags": []
          },
          "execution_count": 33
        }
      ]
    },
    {
      "cell_type": "code",
      "metadata": {
        "colab": {
          "base_uri": "https://localhost:8080/"
        },
        "id": "VVzphM7zLGNx",
        "outputId": "b59cd931-1b10-4a44-f1d3-381ca827f98e"
      },
      "source": [
        "# print(\"PROFIT: \", profit)\n",
        "# print(\"LOSS: \", loss)\n",
        "print(\"MAX FLAT PERIOD: \",maximum_flat_period)\n",
        "print(\"MAX WIN PERIOD: \",maximum_win_period)"
      ],
      "execution_count": null,
      "outputs": [
        {
          "output_type": "stream",
          "text": [
            "MAX FLAT PERIOD:  (0, 0, 1)\n",
            "MAX WIN PERIOD:  (44, 44, 1)\n"
          ],
          "name": "stdout"
        }
      ]
    },
    {
      "cell_type": "code",
      "metadata": {
        "colab": {
          "base_uri": "https://localhost:8080/"
        },
        "id": "p1AGtFYuH7Uy",
        "outputId": "e557393e-9939-4472-c8d1-e62577b036d9"
      },
      "source": [
        "max(returns)"
      ],
      "execution_count": null,
      "outputs": [
        {
          "output_type": "execute_result",
          "data": {
            "text/plain": [
              "44.00000007794654"
            ]
          },
          "metadata": {
            "tags": []
          },
          "execution_count": 76
        }
      ]
    }
  ]
}